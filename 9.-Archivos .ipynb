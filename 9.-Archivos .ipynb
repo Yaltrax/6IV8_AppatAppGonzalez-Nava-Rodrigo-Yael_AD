{
 "cells": [
  {
   "cell_type": "markdown",
   "id": "3f723dd1-7f92-4ab8-923e-98de3a1db9fb",
   "metadata": {},
   "source": [
    "# 9.- Archivos"
   ]
  },
  {
   "cell_type": "markdown",
   "id": "d43b7e5b-7609-4259-9bdb-5cbb52f30d79",
   "metadata": {},
   "source": [
    "## 9.2.-Archivos TXT"
   ]
  },
  {
   "cell_type": "markdown",
   "id": "2aae30a5-95f2-4e6f-8fe5-b40c43766518",
   "metadata": {},
   "source": [
    "Lo primero que haremos será escribir a un archivo de texto con información extraordinariamente importante. \n",
    "\n",
    "A continuación los 4 influencers con más seguidores en tiktok del mundo (Febrero 2021)\n",
    "\n",
    "@charlidamelio D’Amelio 108.1\n",
    "@addisonre Addison 76.4\n",
    "@zachking Zach 56.6\n",
    "@bellapoarch Bella 56.3"
   ]
  },
  {
   "cell_type": "code",
   "execution_count": 1,
   "id": "3b645420-c1cd-4977-b392-37fde45251c2",
   "metadata": {},
   "outputs": [
    {
     "name": "stdout",
     "output_type": "stream",
     "text": [
      "@charlidamelio D'Amelio 108.1\n",
      "@addisonre Addison 76.4\n",
      "@zachking Zach 56.6\n",
      "@bellapoarch Bella 56.3\n",
      "\n"
     ]
    }
   ],
   "source": [
    "with open(\"influencers.txt\", \"w\") as archivo:\n",
    "    archivo.write(\"@charlidamelio D'Amelio 108.1\\n\")\n",
    "    archivo.write(\"@addisonre Addison 76.4\\n\")\n",
    "    archivo.write(\"@zachking Zach 56.6\\n\")\n",
    "    archivo.write(\"@bellapoarch Bella 56.3\\n\")\n",
    "\n",
    "with open(\"influencers.txt\", \"r\") as archivo:\n",
    "    contenido = archivo.read()\n",
    "    print(contenido)"
   ]
  },
  {
   "cell_type": "markdown",
   "id": "280440b0-730b-42a1-bf2d-14e57a25f019",
   "metadata": {},
   "source": [
    "Ahora revisaremos los contenidos en python con el siguiente código:"
   ]
  },
  {
   "cell_type": "code",
   "execution_count": 2,
   "id": "a573ef82-eb54-4fcb-85b6-b398a6eb8576",
   "metadata": {},
   "outputs": [
    {
     "name": "stdout",
     "output_type": "stream",
     "text": [
      "@charlidamelio D'Amelio 108.1\n",
      "@addisonre Addison 76.4\n",
      "@zachking Zach 56.6\n",
      "@bellapoarch Bella 56.3\n",
      "\n"
     ]
    }
   ],
   "source": [
    "with open(\"influencers.txt\", \"r\") as archivo:\n",
    "    contenido = archivo.read()\n",
    "    print(contenido)"
   ]
  },
  {
   "cell_type": "markdown",
   "id": "01d17b73-6e87-4f8a-a923-6501929e7e3a",
   "metadata": {},
   "source": [
    "Que pasa si queremos modificar el carhivo desde python? Es un problema"
   ]
  },
  {
   "cell_type": "code",
   "execution_count": 3,
   "id": "347ba2e9-2241-403d-b485-c5e6fe88b03c",
   "metadata": {},
   "outputs": [
    {
     "name": "stdout",
     "output_type": "stream",
     "text": [
      "@charlidamelio D'Amelio 108.1\n",
      "@addisonre Addison 76.4\n",
      "@zachking Zach 56.6\n",
      "@bellapoarch Bella 56.3\n",
      "@khaby.lame Khaby 100.0\n",
      "\n"
     ]
    }
   ],
   "source": [
    "with open(\"influencers.txt\", \"a\") as archivo:\n",
    "    archivo.write(\"@khaby.lame Khaby 100.0\\n\")\n",
    "\n",
    "with open(\"influencers.txt\", \"r\") as archivo:\n",
    "    contenido = archivo.read()\n",
    "    print(contenido)"
   ]
  },
  {
   "cell_type": "markdown",
   "id": "9e9fd794-614b-4af9-8e19-ecf187e7096e",
   "metadata": {},
   "source": [
    "## 9.3.- Archivos JSON"
   ]
  },
  {
   "cell_type": "markdown",
   "id": "b2f0e150-64e6-4a0c-bf9a-01b14b0474e5",
   "metadata": {},
   "source": [
    "Consideremos el siguiente diccionario que habla de tiktok\n",
    "\n",
    "seguidores_dicc={'seguidores\\n':[\n",
    " {'handle':'@charlidamelio', 'name':'Charlie', 'num_seg':108.1},\n",
    " {'handle':'@addisonre', 'name':'Addison', 'num_seg':76.4},\n",
    " {'handle':'@zachking', 'name':'Zach', 'num_seg':56.6},\n",
    " {'handle':'@bellapoarch', 'name':'Bella', 'num_seg':56.3}]}\n"
   ]
  },
  {
   "cell_type": "code",
   "execution_count": 4,
   "id": "03037689-e74d-4a37-a700-e7e8bb4548a4",
   "metadata": {},
   "outputs": [],
   "source": [
    "import json\n",
    "\n",
    "seguidores_dicc = {\n",
    "    \"seguidores\": [\n",
    "        {\"handle\": \"@charlidamelio\", \"name\": \"Charlie\", \"num_seg\": 108.1},\n",
    "        {\"handle\": \"@addisonre\", \"name\": \"Addison\", \"num_seg\": 76.4},\n",
    "        {\"handle\": \"@zachking\", \"name\": \"Zach\", \"num_seg\": 56.6},\n",
    "        {\"handle\": \"@bellapoarch\", \"name\": \"Bella\", \"num_seg\": 56.3}\n",
    "    ]\n",
    "}"
   ]
  },
  {
   "cell_type": "code",
   "execution_count": 5,
   "id": "4cc74381-4415-4e2d-a6e9-22ab5cbe564a",
   "metadata": {},
   "outputs": [],
   "source": [
    "with open(\"seguidores.json\", \"w\") as archivo_json:\n",
    "    json.dump(seguidores_dicc, archivo_json, indent=4)"
   ]
  },
  {
   "cell_type": "markdown",
   "id": "ad19770f-e6b3-45cd-a0f2-cabdac51d79b",
   "metadata": {},
   "source": [
    "Para escribir este objeto con el formato JSON"
   ]
  },
  {
   "cell_type": "code",
   "execution_count": 6,
   "id": "47e2a67a-3f55-418d-8808-f496fcbaa2b3",
   "metadata": {},
   "outputs": [],
   "source": [
    "import json\n",
    "\n",
    "with open(\"seguidores.json\", \"w\") as archivo_json:\n",
    "    json.dump(seguidores_dicc, archivo_json, indent=4)"
   ]
  },
  {
   "cell_type": "code",
   "execution_count": 7,
   "id": "669a083d-9292-492c-9025-ae504add8ac4",
   "metadata": {},
   "outputs": [
    {
     "name": "stdout",
     "output_type": "stream",
     "text": [
      "{\n",
      "    \"seguidores\": [\n",
      "        {\n",
      "            \"handle\": \"@charlidamelio\",\n",
      "            \"name\": \"Charlie\",\n",
      "            \"num_seg\": 108.1\n",
      "        },\n",
      "        {\n",
      "            \"handle\": \"@addisonre\",\n",
      "            \"name\": \"Addison\",\n",
      "            \"num_seg\": 76.4\n",
      "        },\n",
      "        {\n",
      "            \"handle\": \"@zachking\",\n",
      "            \"name\": \"Zach\",\n",
      "            \"num_seg\": 56.6\n",
      "        },\n",
      "        {\n",
      "            \"handle\": \"@bellapoarch\",\n",
      "            \"name\": \"Bella\",\n",
      "            \"num_seg\": 56.3\n",
      "        }\n",
      "    ]\n",
      "}\n"
     ]
    }
   ],
   "source": [
    "with open(\"seguidores.json\", \"r\") as archivo_json:\n",
    "    data = json.load(archivo_json)\n",
    "    print(json.dumps(data, indent=4))"
   ]
  },
  {
   "cell_type": "markdown",
   "id": "024fa392-219c-4b12-ae18-a42ee73dcfe7",
   "metadata": {},
   "source": [
    "Ahora recuperemos los datos del archivo JSON con la función load"
   ]
  },
  {
   "cell_type": "code",
   "execution_count": 8,
   "id": "c7a73524-4bd7-49d2-802d-c9ae25d47984",
   "metadata": {},
   "outputs": [],
   "source": [
    "import json\n",
    "\n",
    "with open(\"seguidores.json\", \"r\") as archivo_json:\n",
    "    data = json.load(archivo_json)"
   ]
  },
  {
   "cell_type": "code",
   "execution_count": 9,
   "id": "ed9d27d0-34f0-463d-95d8-8cf689b4a5bf",
   "metadata": {},
   "outputs": [
    {
     "name": "stdout",
     "output_type": "stream",
     "text": [
      "{\n",
      "    \"seguidores\": [\n",
      "        {\n",
      "            \"handle\": \"@charlidamelio\",\n",
      "            \"name\": \"Charlie\",\n",
      "            \"num_seg\": 108.1\n",
      "        },\n",
      "        {\n",
      "            \"handle\": \"@addisonre\",\n",
      "            \"name\": \"Addison\",\n",
      "            \"num_seg\": 76.4\n",
      "        },\n",
      "        {\n",
      "            \"handle\": \"@zachking\",\n",
      "            \"name\": \"Zach\",\n",
      "            \"num_seg\": 56.6\n",
      "        },\n",
      "        {\n",
      "            \"handle\": \"@bellapoarch\",\n",
      "            \"name\": \"Bella\",\n",
      "            \"num_seg\": 56.3\n",
      "        }\n",
      "    ]\n",
      "}\n"
     ]
    }
   ],
   "source": [
    "print(json.dumps(data, indent=4))"
   ]
  },
  {
   "cell_type": "markdown",
   "id": "9ca654fe-7bc1-49c0-977d-6ad05e6bcca6",
   "metadata": {},
   "source": [
    "Ahora accede al diccionario asociada a la llave seguidores"
   ]
  },
  {
   "cell_type": "code",
   "execution_count": 10,
   "id": "265f88a2-fc60-468a-9989-443bafae1ea4",
   "metadata": {},
   "outputs": [
    {
     "name": "stdout",
     "output_type": "stream",
     "text": [
      "[{'handle': '@charlidamelio', 'name': 'Charlie', 'num_seg': 108.1}, {'handle': '@addisonre', 'name': 'Addison', 'num_seg': 76.4}, {'handle': '@zachking', 'name': 'Zach', 'num_seg': 56.6}, {'handle': '@bellapoarch', 'name': 'Bella', 'num_seg': 56.3}]\n"
     ]
    }
   ],
   "source": [
    "seguidores = data[\"seguidores\"]\n",
    "print(seguidores)"
   ]
  },
  {
   "cell_type": "markdown",
   "id": "d1401405-df57-4c3d-9dee-dd2ec443becb",
   "metadata": {},
   "source": [
    "Y obten registros indivudales de 0 y 3"
   ]
  },
  {
   "cell_type": "code",
   "execution_count": 11,
   "id": "89b6cefd-6244-452a-864f-811ef39b4def",
   "metadata": {},
   "outputs": [
    {
     "name": "stdout",
     "output_type": "stream",
     "text": [
      "{'handle': '@charlidamelio', 'name': 'Charlie', 'num_seg': 108.1}\n",
      "{'handle': '@bellapoarch', 'name': 'Bella', 'num_seg': 56.3}\n"
     ]
    }
   ],
   "source": [
    "print(seguidores[0])\n",
    "print(seguidores[3])"
   ]
  },
  {
   "cell_type": "markdown",
   "id": "e3e7b792-4db7-433e-ab92-a4fd8193306d",
   "metadata": {},
   "source": [
    "## 9.4.- Manipulación de Excepciones"
   ]
  },
  {
   "cell_type": "markdown",
   "id": "bba13d6b-9e2a-4c81-9810-3d20c568c47a",
   "metadata": {},
   "source": [
    "Una excepción es un error, como dividir entre 0"
   ]
  },
  {
   "cell_type": "code",
   "execution_count": 12,
   "id": "4a421606-3126-4ff3-8348-cfc8535d0ce9",
   "metadata": {},
   "outputs": [
    {
     "name": "stdout",
     "output_type": "stream",
     "text": [
      "Error: No se puede dividir entre cero\n"
     ]
    }
   ],
   "source": [
    "try:\n",
    "    resultado = 10 / 0\n",
    "except ZeroDivisionError:\n",
    "    print(\"Error: No se puede dividir entre cero\")"
   ]
  },
  {
   "cell_type": "markdown",
   "id": "bf2a3d29-582b-41f9-a1c7-caefa291c04c",
   "metadata": {},
   "source": [
    "Y la excepción d etipo value error, que ocurre cuando intentas convertir una cadena en entero"
   ]
  },
  {
   "cell_type": "code",
   "execution_count": 13,
   "id": "f307efbc-744b-49f6-8668-a001dfffcf11",
   "metadata": {},
   "outputs": [
    {
     "name": "stdout",
     "output_type": "stream",
     "text": [
      "Error: No se puede convertir una cadena en un número entero\n"
     ]
    }
   ],
   "source": [
    "try:\n",
    "    numero = int(\"hola\")\n",
    "except ValueError:\n",
    "    print(\"Error: No se puede convertir una cadena en un número entero\")"
   ]
  },
  {
   "cell_type": "markdown",
   "id": "2768f4e8-9601-4128-8f43-d07955f6d81d",
   "metadata": {},
   "source": [
    "Que pasa si quiero dar continuidad a la ejecución dle programa?"
   ]
  },
  {
   "cell_type": "markdown",
   "id": "2316123b-0545-4495-ad05-954857d1e1f6",
   "metadata": {},
   "source": [
    "Vamos a hacer un programa que divida por 0 - vamos a necesitar usar While, trye, except, except y else"
   ]
  },
  {
   "cell_type": "code",
   "execution_count": 15,
   "id": "d9cea468",
   "metadata": {},
   "outputs": [
    {
     "name": "stdout",
     "output_type": "stream",
     "text": [
      "Resultado: 2.0\n"
     ]
    }
   ],
   "source": [
    "while True:\n",
    "    try:\n",
    "        num = int(input(\"Ingresa un número distinto de cero: \"))\n",
    "        resultado = 10 / num\n",
    "    except ZeroDivisionError:\n",
    "        print(\"Error: No se puede dividir entre cero. Intenta de nuevo.\")\n",
    "    except ValueError:\n",
    "        print(\"Error: Ingresa un número válido.\")\n",
    "    else:\n",
    "        print(\"Resultado:\", resultado)\n",
    "        break"
   ]
  },
  {
   "cell_type": "markdown",
   "id": "0cdf6156-1396-490e-97b5-c167ef49ed0f",
   "metadata": {},
   "source": [
    "## 9.5.- Archivos CSV"
   ]
  },
  {
   "cell_type": "markdown",
   "id": "85a3ebe3-34b3-422c-b548-0f96d6c95c05",
   "metadata": {},
   "source": [
    "Primero crearemos un archivo CSV con los seguidores de TikTok"
   ]
  },
  {
   "cell_type": "code",
   "execution_count": 16,
   "id": "660d8b15-c380-4860-9714-ea7b920a6ce7",
   "metadata": {},
   "outputs": [],
   "source": [
    "import csv\n",
    "\n",
    "datos = [\n",
    "    [\"handle\", \"name\", \"num_seg\"],\n",
    "    [\"@charlidamelio\", \"Charlie\", 108.1],\n",
    "    [\"@addisonre\", \"Addison\", 76.4],\n",
    "    [\"@zachking\", \"Zach\", 56.6],\n",
    "    [\"@bellapoarch\", \"Bella\", 56.3]\n",
    "]\n",
    "\n",
    "with open(\"seguidores.csv\", \"w\", newline=\"\") as archivo_csv:\n",
    "    escritor = csv.writer(archivo_csv)\n",
    "    escritor.writerows(datos)"
   ]
  },
  {
   "cell_type": "markdown",
   "id": "b2fc2084-25bd-40ca-9bf9-21ee576efa9c",
   "metadata": {},
   "source": [
    "Ahora leeremos nuestro mismo archivo"
   ]
  },
  {
   "cell_type": "code",
   "execution_count": 17,
   "id": "8bd1e7ef-09ae-4b45-b59b-8fdb593eb3a0",
   "metadata": {},
   "outputs": [
    {
     "name": "stdout",
     "output_type": "stream",
     "text": [
      "['handle', 'name', 'num_seg']\n",
      "['@charlidamelio', 'Charlie', '108.1']\n",
      "['@addisonre', 'Addison', '76.4']\n",
      "['@zachking', 'Zach', '56.6']\n",
      "['@bellapoarch', 'Bella', '56.3']\n"
     ]
    }
   ],
   "source": [
    "import csv\n",
    "\n",
    "with open(\"seguidores.csv\", \"r\") as archivo_csv:\n",
    "    lector = csv.reader(archivo_csv)\n",
    "    for fila in lector:\n",
    "        print(fila)"
   ]
  },
  {
   "cell_type": "markdown",
   "id": "14e192c6-1b56-47ea-8e8b-7afbb0e6ddc8",
   "metadata": {},
   "source": [
    "## 9.6.- Lectura de CSV con DataFrame de Pandas"
   ]
  },
  {
   "cell_type": "markdown",
   "id": "6cfe35de-8e30-4e9d-8bc5-9e9d2d013c62",
   "metadata": {},
   "source": [
    "Vamos a leer el archivo del gimnasio"
   ]
  },
  {
   "cell_type": "code",
   "execution_count": 28,
   "id": "b1e961ac-5542-4c45-ab76-3b500b99caf4",
   "metadata": {},
   "outputs": [
    {
     "name": "stdout",
     "output_type": "stream",
     "text": [
      "   codigo_user Género    Peso  Cintura  Pulso  Lagartijas  Sentadillas  Saltos\n",
      "0     usuario1      M   86.64    91.44     50           5          162      60\n",
      "1     usuario2      M   85.73    93.98     52           2          110      60\n",
      "2     usuario3      M   87.54    96.52     58          12          101     101\n",
      "3     usuario4      F   73.48    88.90     62          12          105      37\n",
      "4     usuario5      M   85.73    88.90     46          13          155      58\n",
      "5     usuario6      F   82.55    91.44     56           4          101      42\n",
      "6     usuario7      M   95.71    96.52     56           8          101      38\n",
      "7     usuario8      F   75.75    86.36     60           6          125      40\n",
      "8     usuario9      F   79.83    78.74     74          15          200      40\n",
      "9    usuario10      F   69.85    83.82     56          17          251     250\n",
      "10   usuario11      M   76.66    86.36     50          17          120      38\n",
      "11   usuario12      F   75.30    83.82     52          13          210     115\n",
      "12   usuario13      F   69.85    86.36     64          14          215     105\n",
      "13   usuario14      M  112.04   116.84     50           1           50      50\n",
      "14   usuario15      F   87.54    91.44     46           6           70      31\n",
      "15   usuario16      M   91.63    93.98     62          12          210     120\n",
      "16   usuario17      F   79.83    93.98     54           4           60      25\n",
      "17   usuario18      M   71.21    81.28     52          11          230      80\n",
      "18   usuario19      F   70.76    83.82     54          15          225      73\n",
      "19   usuario20      F   62.60    83.82     68           2          110      43\n"
     ]
    }
   ],
   "source": [
    "import pandas as pd\n",
    "\n",
    "df = pd.read_csv(\"datos_gimnasio.csv\")\n",
    "print(df)"
   ]
  },
  {
   "cell_type": "markdown",
   "id": "7d1c9c3c-1303-479d-9e38-21aa11d88a84",
   "metadata": {},
   "source": [
    "Ahora mostraremos oslo las últimas 5 filas"
   ]
  },
  {
   "cell_type": "code",
   "execution_count": 29,
   "id": "cf33d841-1a3b-42ca-84c7-7a947cbf99c8",
   "metadata": {},
   "outputs": [],
   "source": [
    "ultimas_5_filas = df.tail(5)"
   ]
  },
  {
   "cell_type": "code",
   "execution_count": 30,
   "id": "305a1d3d-0b99-44e3-9a51-cea3873b5b08",
   "metadata": {},
   "outputs": [
    {
     "name": "stdout",
     "output_type": "stream",
     "text": [
      "   codigo_user Género   Peso  Cintura  Pulso  Lagartijas  Sentadillas  Saltos\n",
      "15   usuario16      M  91.63    93.98     62          12          210     120\n",
      "16   usuario17      F  79.83    93.98     54           4           60      25\n",
      "17   usuario18      M  71.21    81.28     52          11          230      80\n",
      "18   usuario19      F  70.76    83.82     54          15          225      73\n",
      "19   usuario20      F  62.60    83.82     68           2          110      43\n"
     ]
    }
   ],
   "source": [
    "print(ultimas_5_filas)"
   ]
  },
  {
   "cell_type": "markdown",
   "id": "04c2d5ed-d6f6-4e10-8c6e-a232315d5d88",
   "metadata": {},
   "source": [
    "Vamos a modificar los encabezados del data frame"
   ]
  },
  {
   "cell_type": "code",
   "execution_count": 33,
   "id": "fa4d4a03-8ec1-4e35-85dd-9a58bb15f77f",
   "metadata": {},
   "outputs": [],
   "source": [
    "df.columns = [\"ID_Usuario\", \"Sexo\", \"Peso_kg\", \"Cintura_cm\", \"Frecuencia_Cardiaca\", \"Reps_Lagartijas\", \"Reps_Sentadillas\", \"Reps_Saltos\"]"
   ]
  },
  {
   "cell_type": "code",
   "execution_count": 34,
   "id": "2745e7b4-42c3-45a2-b1f4-ee28da9eac50",
   "metadata": {},
   "outputs": [
    {
     "name": "stdout",
     "output_type": "stream",
     "text": [
      "  ID_Usuario Sexo  Peso_kg  Cintura_cm  Frecuencia_Cardiaca  Reps_Lagartijas  \\\n",
      "0   usuario1    M    86.64       91.44                   50                5   \n",
      "1   usuario2    M    85.73       93.98                   52                2   \n",
      "2   usuario3    M    87.54       96.52                   58               12   \n",
      "3   usuario4    F    73.48       88.90                   62               12   \n",
      "4   usuario5    M    85.73       88.90                   46               13   \n",
      "\n",
      "   Reps_Sentadillas  Reps_Saltos  \n",
      "0               162           60  \n",
      "1               110           60  \n",
      "2               101          101  \n",
      "3               105           37  \n",
      "4               155           58  \n"
     ]
    }
   ],
   "source": [
    "print(df.head())"
   ]
  },
  {
   "cell_type": "markdown",
   "id": "90eefa92-6541-4252-bafb-e960a4775172",
   "metadata": {},
   "source": [
    "Y ahora usamos describe para obtener un resumen de las estadisticas de los datos"
   ]
  },
  {
   "cell_type": "code",
   "execution_count": 35,
   "id": "6bd1e60f-3a68-4303-a621-506093fd26bf",
   "metadata": {},
   "outputs": [
    {
     "name": "stdout",
     "output_type": "stream",
     "text": [
      "          Peso_kg  Cintura_cm  Frecuencia_Cardiaca  Reps_Lagartijas  \\\n",
      "count   20.000000   20.000000            20.000000        20.000000   \n",
      "mean    81.011500   89.916000            56.100000         9.450000   \n",
      "std     11.200197    8.133012             7.210373         5.286278   \n",
      "min     62.600000   78.740000            46.000000         1.000000   \n",
      "25%     72.912500   83.820000            51.500000         4.750000   \n",
      "50%     79.830000   88.900000            55.000000        11.500000   \n",
      "75%     86.865000   93.980000            60.500000        13.250000   \n",
      "max    112.040000  116.840000            74.000000        17.000000   \n",
      "\n",
      "       Reps_Sentadillas  Reps_Saltos  \n",
      "count         20.000000     20.00000  \n",
      "mean         145.550000     70.30000  \n",
      "std           62.566575     51.27747  \n",
      "min           50.000000     25.00000  \n",
      "25%          101.000000     39.50000  \n",
      "50%          122.500000     54.00000  \n",
      "75%          210.000000     85.25000  \n",
      "max          251.000000    250.00000  \n"
     ]
    }
   ],
   "source": [
    "print(df.describe())"
   ]
  },
  {
   "cell_type": "markdown",
   "id": "f6b07c8b-6397-4a0b-884f-22a93923c09a",
   "metadata": {},
   "source": [
    "Que tal que solo queremos estadisticas de mujeres? 👩🏻"
   ]
  },
  {
   "cell_type": "code",
   "execution_count": 36,
   "id": "be9d607d-efe9-40fb-b9fe-a858d3bb43ae",
   "metadata": {},
   "outputs": [
    {
     "name": "stdout",
     "output_type": "stream",
     "text": [
      "       Peso_kg  Cintura_cm  Frecuencia_Cardiaca  Reps_Lagartijas  \\\n",
      "count      0.0         0.0                  0.0              0.0   \n",
      "mean       NaN         NaN                  NaN              NaN   \n",
      "std        NaN         NaN                  NaN              NaN   \n",
      "min        NaN         NaN                  NaN              NaN   \n",
      "25%        NaN         NaN                  NaN              NaN   \n",
      "50%        NaN         NaN                  NaN              NaN   \n",
      "75%        NaN         NaN                  NaN              NaN   \n",
      "max        NaN         NaN                  NaN              NaN   \n",
      "\n",
      "       Reps_Sentadillas  Reps_Saltos  \n",
      "count               0.0          0.0  \n",
      "mean                NaN          NaN  \n",
      "std                 NaN          NaN  \n",
      "min                 NaN          NaN  \n",
      "25%                 NaN          NaN  \n",
      "50%                 NaN          NaN  \n",
      "75%                 NaN          NaN  \n",
      "max                 NaN          NaN  \n"
     ]
    }
   ],
   "source": [
    "print(df[df[\"Sexo\"] == \"Femenino\"].describe())"
   ]
  },
  {
   "cell_type": "markdown",
   "id": "f1ad722c-5b9c-43e7-816c-d09df3828f57",
   "metadata": {},
   "source": [
    "Hagamos una grafica de los datos del gym 📊"
   ]
  },
  {
   "cell_type": "code",
   "execution_count": 5,
   "id": "82d8101d-a51e-470b-929e-e09fadf7f58d",
   "metadata": {},
   "outputs": [],
   "source": [
    "import pandas as pd\n",
    "\n",
    "df = pd.read_csv(\"datos_gimnasio.csv\")  "
   ]
  },
  {
   "cell_type": "code",
   "execution_count": 8,
   "id": "83a71029-77cd-45de-9734-bcee327e7b41",
   "metadata": {},
   "outputs": [
    {
     "data": {
      "image/png": "[encoded data removed]",
      "text/plain": [
       "<Figure size 640x480 with 1 Axes>"
      ]
     },
     "metadata": {},
     "output_type": "display_data"
    }
   ],
   "source": [
    "import matplotlib.pyplot as plt\n",
    "\n",
    "df[\"Peso\"].hist(bins=10, edgecolor=\"black\")  # Usa \"Peso\" en lugar de \"Peso_kg\"\n",
    "plt.xlabel(\"Peso (kg)\")\n",
    "plt.ylabel(\"Frecuencia\")\n",
    "plt.title(\"Distribución de Peso en el Gym\")\n",
    "plt.show()"
   ]
  },
  {
   "cell_type": "code",
   "execution_count": 7,
   "id": "b2afc686-8bd6-4760-a7cb-ca6e44191144",
   "metadata": {},
   "outputs": [
    {
     "name": "stdout",
     "output_type": "stream",
     "text": [
      "Index(['codigo_user', 'Género', 'Peso', 'Cintura', 'Pulso', 'Lagartijas',\n",
      "       'Sentadillas', 'Saltos'],\n",
      "      dtype='object')\n"
     ]
    }
   ],
   "source": [
    "print(df.columns)"
   ]
  }
 ],
 "metadata": {
  "kernelspec": {
   "display_name": "Python 3",
   "language": "python",
   "name": "python3"
  },
  "language_info": {
   "codemirror_mode": {
    "name": "ipython",
    "version": 3
   },
   "file_extension": ".py",
   "mimetype": "text/x-python",
   "name": "python",
   "nbconvert_exporter": "python",
   "pygments_lexer": "ipython3",
   "version": "3.13.1"
  }
 },
 "nbformat": 4,
 "nbformat_minor": 5
}
