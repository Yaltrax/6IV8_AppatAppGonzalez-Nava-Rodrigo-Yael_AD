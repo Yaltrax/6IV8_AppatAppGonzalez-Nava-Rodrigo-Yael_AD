{
 "cells": [
  {
   "cell_type": "markdown",
   "id": "97440181-c103-476a-92f2-f0f1ecec1172",
   "metadata": {},
   "source": [
    "# 7.- Arreglos con NUMPY"
   ]
  },
  {
   "cell_type": "markdown",
   "id": "fcba5f60-4ce2-4b2b-8ab3-896104c16476",
   "metadata": {},
   "source": [
    "En este capítulo aprenderás a utilizar algunas cualidades básicas de NumPy (Numerical Python).\n",
    "NumPy es una de las librerías más populares de Python, ya que puede procesar listas de múltiples\n",
    "dimensiones"
   ]
  },
  {
   "cell_type": "markdown",
   "id": "bff5b478-ff7c-49cd-bc26-438dafb70e07",
   "metadata": {},
   "source": [
    "## 7.2.- Arreglo de Datos"
   ]
  },
  {
   "cell_type": "markdown",
   "id": "c7835682-242d-40e4-9908-daf68081945b",
   "metadata": {},
   "source": [
    "Como en la sección anterior, invocaremos a la librería NumPy como np"
   ]
  },
  {
   "cell_type": "code",
   "execution_count": null,
   "id": "2cde2abf-8d84-467b-b59d-d8866870e94f",
   "metadata": {},
   "outputs": [],
   "source": [
    "import numpy as np"
   ]
  },
  {
   "cell_type": "markdown",
   "id": "642ae354-9ae2-40e0-acdc-45566af97cb4",
   "metadata": {},
   "source": [
    "Armemos un arreglo de todos los factoriales del 1 al 6"
   ]
  },
  {
   "cell_type": "code",
   "execution_count": null,
   "id": "b4d6af33-6688-4dd8-9970-0a2e06491112",
   "metadata": {},
   "outputs": [],
   "source": [
    "factoriales = np.array([np.math.factorial(n) for n in range(1, 7)])\n",
    "factoriales\n",
    "array([  1,   2,   6,  24, 120, 720])"
   ]
  },
  {
   "cell_type": "markdown",
   "id": "3e0a5ef0-5ffe-4591-968e-ca4346c7ea9d",
   "metadata": {},
   "source": [
    "Verifica el tipo de objeto que generamos"
   ]
  },
  {
   "cell_type": "code",
   "execution_count": null,
   "id": "9f0bcf80-e875-43f6-8768-a710cc9348c7",
   "metadata": {},
   "outputs": [],
   "source": [
    "type(factoriales)\n",
    "<class 'numpy.ndarray'>"
   ]
  },
  {
   "cell_type": "markdown",
   "id": "735ed935-98ff-4e17-9088-0c9dec7cb593",
   "metadata": {},
   "source": [
    "La función array copia automáticamente las dimensiones del argumento. Por ejemplo, el siguiente arreglo (array) está formado por tres filas y dos columnas."
   ]
  },
  {
   "cell_type": "code",
   "execution_count": null,
   "id": "be75e011-3b03-44a4-9e6c-cad9c045bca4",
   "metadata": {},
   "outputs": [],
   "source": [
    "matriz = np.array([[1, 2], [3, 4], [5, 6]])\n",
    "matriz\n",
    "array([[1, 2],\n",
    "       [3, 4],\n",
    "       [5, 6]])"
   ]
  },
  {
   "cell_type": "markdown",
   "id": "22058497-7040-44fe-97a8-247f62a52d3f",
   "metadata": {},
   "source": [
    "#### Por tu cuenta\n",
    "\n",
    "Arma un arreglo de una dimensión desde una compresnidón de lista que produce todos los números nones del 1 al 30"
   ]
  },
  {
   "cell_type": "code",
   "execution_count": null,
   "id": "361d9943-b067-4a77-8ffa-99ac2297267f",
   "metadata": {},
   "outputs": [],
   "source": [
    "nones = np.array([n for n in range(1, 31, 2)])\n",
    "nones\n",
    "array([ 1,  3,  5,  7,  9, 11, 13, 15, 17, 19, 21, 23, 25, 27, 29])"
   ]
  },
  {
   "cell_type": "markdown",
   "id": "91b4e247-d7c9-473a-a77a-45890ae5877d",
   "metadata": {},
   "source": [
    "### 7.2.2 - Atributos de Arreglos"
   ]
  },
  {
   "cell_type": "markdown",
   "id": "585c03f9-c00a-4dbf-bf10-0073ef735d74",
   "metadata": {},
   "source": [
    "En esta sección usaremos los siguientes 2 arreglos\n",
    "\n",
    "enteros = np.array([[9,10,11,12],[8,7,6,5]])\n",
    "\n",
    "flotantes=np.array([[9**(1/2),10**(1/2),3.33,],[10/3,3.4,3.03]])"
   ]
  },
  {
   "cell_type": "code",
   "execution_count": null,
   "id": "4c3638cb-f453-45fd-a7f2-d2498c6a45df",
   "metadata": {},
   "outputs": [],
   "source": [
    "enteros = np.array([[9, 10, 11, 12], [8, 7, 6, 5]])\n",
    "\n",
    "flotantes = np.array([[9**(1/2), 10**(1/2), 3.33], [10/3, 3.4, 3.03]])\n",
    "\n",
    "enteros, flotantes"
   ]
  },
  {
   "cell_type": "code",
   "execution_count": null,
   "id": "f251b26b-e5b1-4899-b2f7-a123d0aa0343",
   "metadata": {},
   "outputs": [],
   "source": [
    "(array([[ 9, 10, 11, 12],\n",
    "        [ 8,  7,  6,  5]]), \n",
    " array([[3.        , 3.16227766, 3.33      ],\n",
    "        [3.33333333, 3.4       , 3.03      ]]))"
   ]
  },
  {
   "cell_type": "markdown",
   "id": "25723a8f-407c-4e96-b3fc-1a3599a235d2",
   "metadata": {},
   "source": [
    "Checa el tipo de elemento con dtype"
   ]
  },
  {
   "cell_type": "code",
   "execution_count": null,
   "id": "16a77235-c2b1-481d-83d0-868b5ae497c6",
   "metadata": {},
   "outputs": [],
   "source": [
    "enteros.dtype, flotantes.dtype"
   ]
  },
  {
   "cell_type": "code",
   "execution_count": null,
   "id": "178aec35-04c4-4ee6-aede-9e7e8040ec72",
   "metadata": {},
   "outputs": [],
   "source": [
    "(dtype('int64'), dtype('float64'))"
   ]
  },
  {
   "cell_type": "markdown",
   "id": "2877de72-2877-4d1b-a890-9eb4bb383b41",
   "metadata": {},
   "source": [
    "Revisa que puedes ver dimensione con ndim y forma con shape del arreglo"
   ]
  },
  {
   "cell_type": "code",
   "execution_count": null,
   "id": "fc0831b6-2514-4266-a070-fabf58ba64da",
   "metadata": {},
   "outputs": [],
   "source": [
    "enteros.ndim, enteros.shape, flotantes.ndim, flotantes.shape"
   ]
  },
  {
   "cell_type": "code",
   "execution_count": null,
   "id": "9bf00a06-b6ca-4e4b-acfd-c6aa2e1f7056",
   "metadata": {},
   "outputs": [],
   "source": [
    "(2, (2, 4), 2, (2, 3))"
   ]
  },
  {
   "cell_type": "markdown",
   "id": "304c7d0b-d297-4a95-acc1-4d65e136a123",
   "metadata": {},
   "source": [
    "Size y itemsize te permite conocer el numero de elemntos y de bytes para almacenar"
   ]
  },
  {
   "cell_type": "code",
   "execution_count": null,
   "id": "31222166-9d8a-4f67-b823-79ae42350f17",
   "metadata": {},
   "outputs": [],
   "source": [
    "enteros.size, enteros.itemsize, flotantes.size, flotantes.itemsize\n",
    "(8, 8, 6, 8)"
   ]
  },
  {
   "cell_type": "markdown",
   "id": "77944a1b-3dfc-418f-895b-9f60ed6d2639",
   "metadata": {},
   "source": [
    "Se puede iterar facilmente a través de un arreglo"
   ]
  },
  {
   "cell_type": "code",
   "execution_count": null,
   "id": "90e1bada-72bd-4fb3-a539-0f40aa3734a3",
   "metadata": {},
   "outputs": [],
   "source": [
    "for fila in enteros:\n",
    "    for elemento in fila:\n",
    "        print(elemento, end=\" \")\n",
    "9 10 11 12 8 7 6 5"
   ]
  },
  {
   "cell_type": "markdown",
   "id": "142d034c-3e20-4b20-ba51-6000becb42f5",
   "metadata": {},
   "source": [
    "#### Por tu cuenta\n",
    "\n",
    "Para el arreglo que armaste en el \"Por tu cuenta\" previo, checa el numero de dmiensiones y forma del arreglo"
   ]
  },
  {
   "cell_type": "code",
   "execution_count": null,
   "id": "992b5cc8-7814-41d3-8d20-138b12f9b93e",
   "metadata": {},
   "outputs": [],
   "source": [
    "nones.ndim, nones.shape"
   ]
  },
  {
   "cell_type": "code",
   "execution_count": null,
   "id": "b381994a-8b83-4cd4-b0b6-7ff1d3910730",
   "metadata": {},
   "outputs": [],
   "source": [
    "(1, (15,))"
   ]
  },
  {
   "cell_type": "markdown",
   "id": "6c576a2d-67d9-4a39-a251-bf1cb325bc61",
   "metadata": {},
   "source": [
    "### 7.2.3 - Creando Arreglos desde Rangos"
   ]
  },
  {
   "cell_type": "markdown",
   "id": "8ecb1f66-72c9-4d1d-8332-0670ff49049b",
   "metadata": {},
   "source": [
    "La función arange (una sola R!!!!) nos permite crear rangos de enteros. Crea:\n",
    "\n",
    "- Un arreglo del 0 al 7\n",
    "- Un arreglo del 3 al 7\n",
    "- Un arreglo del 12 al 2 en pasos de 3 en 3 (si, en orden inverso)"
   ]
  },
  {
   "cell_type": "code",
   "execution_count": null,
   "id": "398b8572-3b35-4a9b-b3d2-df69be4b8c62",
   "metadata": {},
   "outputs": [],
   "source": [
    "arr1 = np.arange(0, 8)\n",
    "arr2 = np.arange(3, 8)\n",
    "arr3 = np.arange(12, 1, -3)\n",
    "\n",
    "arr1, arr2, arr3"
   ]
  },
  {
   "cell_type": "code",
   "execution_count": null,
   "id": "5dddb086-837f-46fb-8129-78913c9045fc",
   "metadata": {},
   "outputs": [],
   "source": [
    "(array([0, 1, 2, 3, 4, 5, 6, 7]), \n",
    " array([3, 4, 5, 6, 7]), \n",
    " array([12,  9,  6,  3]))"
   ]
  },
  {
   "cell_type": "markdown",
   "id": "8c3940c8-1c11-4224-bc25-7739b60e3256",
   "metadata": {},
   "source": [
    "Tambien se pueden usar tamaños de paso no enteros. Crea un arreglo con linspace de 0 al 1 que vaya de .25 en .25"
   ]
  },
  {
   "cell_type": "code",
   "execution_count": null,
   "id": "b532a32c-f674-48f8-bb15-9ebb58120172",
   "metadata": {},
   "outputs": [],
   "source": [
    "arr_linspace = np.linspace(0, 1, num=5)\n",
    "arr_linspace\n",
    "array([0.  , 0.25, 0.5 , 0.75, 1.  ])"
   ]
  },
  {
   "cell_type": "markdown",
   "id": "ca52697a-dd29-4a72-ab8c-2e1d2b7df73a",
   "metadata": {},
   "source": [
    "Y se puede cambiar la forma del arreglo con reshape. Crea un arreglo con arange que vaya del 21 al 1 en orden inverso, y luego dale forma de matriz de 4x5"
   ]
  },
  {
   "cell_type": "code",
   "execution_count": null,
   "id": "82dd73a2-4e8e-4dd8-a3c3-9132dc655b22",
   "metadata": {},
   "outputs": [],
   "source": [
    "arr = np.arange(21, 1, -1).reshape(4, 5)\n",
    "arr\n",
    "array([[21, 20, 19, 18, 17],\n",
    "       [16, 15, 14, 13, 12],\n",
    "       [11, 10,  9,  8,  7],\n",
    "       [ 6,  5,  4,  3,  2]])"
   ]
  },
  {
   "cell_type": "markdown",
   "id": "1e3f03c1-f451-4dca-9320-1d5846b18995",
   "metadata": {},
   "source": [
    "Checate que si el arreglo tiene 1000 o más elementos, numpy no muestra la totalidad de los datos. Generaun arreglo de 0 a 9999 y dale forma de 5 x 2000"
   ]
  },
  {
   "cell_type": "code",
   "execution_count": null,
   "id": "b6948944-d77f-440d-a781-30fb1cf26565",
   "metadata": {},
   "outputs": [],
   "source": [
    "arr_grande = np.arange(10000).reshape(5, 2000)\n",
    "arr_grande\n",
    "array([[   0,    1,    2, ..., 1997, 1998, 1999],\n",
    "       [2000, 2001, 2002, ..., 3997, 3998, 3999],\n",
    "       [4000, 4001, 4002, ..., 5997, 5998, 5999],\n",
    "       [6000, 6001, 6002, ..., 7997, 7998, 7999],\n",
    "       [8000, 8001, 8002, ..., 9997, 9998, 9999]])\n"
   ]
  },
  {
   "cell_type": "markdown",
   "id": "965587b4-2bd7-4b09-99d4-e1f26fc2d99e",
   "metadata": {},
   "source": [
    "#### Por tu cuenta\n",
    "\n",
    "Usa la función arange para crear una rreglo de 20 enteros pares del 42 al 80, y luego rearmalo en una matriz de 4x5"
   ]
  },
  {
   "cell_type": "code",
   "execution_count": null,
   "id": "8a01c49c-d067-4e8e-aade-42784ffc2340",
   "metadata": {},
   "outputs": [],
   "source": [
    "arr_pares = np.arange(42, 82, 2).reshape(4, 5)\n",
    "arr_pares\n",
    "array([[42, 44, 46, 48, 50],\n",
    "       [52, 54, 56, 58, 60],\n",
    "       [62, 64, 66, 68, 70],\n",
    "       [72, 74, 76, 78, 80]])\n"
   ]
  },
  {
   "cell_type": "markdown",
   "id": "85ffe47c-dc04-4458-befc-8a7785b2da5b",
   "metadata": {},
   "source": [
    "### 7.2.4 - ¿Que tan más rapido es un arreglo?"
   ]
  },
  {
   "cell_type": "markdown",
   "id": "3dbffa17-9288-473d-b503-c25bb402a7be",
   "metadata": {},
   "source": [
    "Usa la magia %timeit y la librería random para crear una comprensión de lista que simule un tiro de dao 6000000 de veces y medir su tiempo"
   ]
  },
  {
   "cell_type": "code",
   "execution_count": null,
   "id": "bd3bd30e-876d-4935-8c75-214fe973d19f",
   "metadata": {},
   "outputs": [],
   "source": [
    "import random\n",
    "\n",
    "%timeit [random.randint(1, 6) for _ in range(6000000)]"
   ]
  },
  {
   "cell_type": "markdown",
   "id": "9722dcf5-f8f6-4b28-8891-fadbd3877ab3",
   "metadata": {
    "tags": []
   },
   "source": [
    "Ahora usa %timeit para medir el tiempo de un tiro de dado 6000000 de veces pero hecho con arreglo"
   ]
  },
  {
   "cell_type": "code",
   "execution_count": null,
   "id": "34fd2bed-c4cc-4cf7-96ef-9f0b505f957f",
   "metadata": {},
   "outputs": [],
   "source": [
    "%timeit np.random.randint(1, 7, 6000000)"
   ]
  },
  {
   "cell_type": "markdown",
   "id": "eee97850-27e6-4a96-8429-9aed475b904a",
   "metadata": {},
   "source": [
    "#### Por tu cuenta\n",
    "\n",
    "Usa %timeit para ver que es mas rapido - una lista que sume todos los enteros del 0 al 9 999 999 o un arreglo que haga lo mismo con el metodo sum"
   ]
  },
  {
   "cell_type": "code",
   "execution_count": null,
   "id": "a6e227ad-e538-42a0-839a-ce702f63fddb",
   "metadata": {},
   "outputs": [],
   "source": [
    "%timeit sum(range(10000000))\n",
    "%timeit np.sum(np.arange(10000000))"
   ]
  },
  {
   "cell_type": "markdown",
   "id": "cafa5e49-63a5-4719-b986-b9c05504efae",
   "metadata": {},
   "source": [
    "## 7.3.- Operaciones con Arreglos"
   ]
  },
  {
   "cell_type": "markdown",
   "id": "4af27e94-54ba-4f6d-9d33-e95cbe99ada3",
   "metadata": {},
   "source": [
    "Arma un arreglo de todos los pares del 2 al 15.\n",
    "\n",
    "- Sumale 1 al arreglo\n",
    "- Multiplicalo por 3\n",
    "- Sacale raiz cuadrada"
   ]
  },
  {
   "cell_type": "code",
   "execution_count": null,
   "id": "d9d83ede-2f50-4336-aae2-95c0343fad8e",
   "metadata": {},
   "outputs": [],
   "source": [
    "arr_pares = np.arange(2, 16, 2)\n",
    "\n",
    "arr_suma = arr_pares + 1\n",
    "arr_multi = arr_pares * 3\n",
    "arr_raiz = np.sqrt(arr_pares)\n",
    "\n",
    "arr_suma, arr_multi, arr_raiz"
   ]
  },
  {
   "cell_type": "code",
   "execution_count": null,
   "id": "6c1f412b-b92a-4c19-bb65-1296b497edef",
   "metadata": {},
   "outputs": [],
   "source": [
    "(array([ 3,  5,  7,  9, 11, 13, 15]), \n",
    " array([ 6, 12, 18, 24, 30, 36, 42]), \n",
    " array([1.41421356, 2.        , 2.44948974, 2.82842712, 3.16227766,\n",
    "       3.46410162, 3.74165739]))"
   ]
  },
  {
   "cell_type": "markdown",
   "id": "2695f776-821c-4f8b-9f05-2d0e9b354b47",
   "metadata": {},
   "source": [
    "Al mismo arreglo, aplicale un +=10"
   ]
  },
  {
   "cell_type": "code",
   "execution_count": null,
   "id": "d4992259-1122-4944-a0d6-374d0575804d",
   "metadata": {},
   "outputs": [],
   "source": [
    "import numpy as np\n",
    "\n",
    "arr_pares = np.arange(2, 16, 2)\n",
    "\n",
    "arr_suma = arr_pares + 1\n",
    "arr_multi = arr_pares * 3\n",
    "arr_raiz = np.sqrt(arr_pares)\n",
    "\n",
    "arr_suma += 10\n",
    "arr_multi += 10\n",
    "arr_raiz += 10\n",
    "\n",
    "arr_suma, arr_multi, arr_raiz"
   ]
  },
  {
   "cell_type": "code",
   "execution_count": null,
   "id": "3a8503c2-a40c-4072-aa2f-d4b294473be8",
   "metadata": {},
   "outputs": [],
   "source": [
    "(array([13, 15, 17, 19, 21, 23, 25]),\n",
    " array([16, 22, 28, 34, 40, 46, 52]),\n",
    " array([11.41421356, 12.        , 12.44948974, 12.82842712, 13.16227766,\n",
    "        13.46410162, 13.74165739]))"
   ]
  },
  {
   "cell_type": "markdown",
   "id": "b22e54c6-c577-4ac8-aa03-ba0bcac2d3fc",
   "metadata": {},
   "source": [
    "Arma un arreglo (lista1) que vaya del 2 al 18 de 3 en 3, y otro arreglo (lista2) usando linspace que vaya del -2 al 20 dividido en 6 numeros\n",
    "\n",
    "- Resta lista1 de lista2\n",
    "- divide lista2 entre lista1"
   ]
  },
  {
   "cell_type": "code",
   "execution_count": null,
   "id": "18e9cece-f0e9-4f9a-add7-f4c826b504a3",
   "metadata": {},
   "outputs": [],
   "source": [
    "import numpy as np\n",
    "\n",
    "lista1 = np.arange(2, 19, 3)\n",
    "lista2 = np.linspace(-2, 20, 6)\n",
    "\n",
    "resta = lista2 - lista1\n",
    "division = lista2 / lista1\n",
    "\n",
    "resta, division"
   ]
  },
  {
   "cell_type": "code",
   "execution_count": null,
   "id": "ac48faaf-cfa5-48cf-b223-9a5b5bc97fc6",
   "metadata": {},
   "outputs": [],
   "source": [
    "(array([ -4. ,  -3.6,  -3.2,  -2.8,  -2.4, -13. ]),\n",
    " array([-1.        , -0.26666667, -0.03125   ,  0.15789474,  0.29166667,\n",
    "         0.38888889]))"
   ]
  },
  {
   "cell_type": "markdown",
   "id": "5897287a-8941-4907-bdb1-32dba5bd7136",
   "metadata": {},
   "source": [
    "También puedes comparar los arreglos"
   ]
  },
  {
   "cell_type": "code",
   "execution_count": null,
   "id": "fc580fd9-bbba-4b44-937b-655da377cd0f",
   "metadata": {},
   "outputs": [],
   "source": [
    "comparacion_mayor = lista1 > lista2\n",
    "comparacion_menor = lista1 < lista2\n",
    "comparacion_igual = lista1 == lista2\n",
    "\n",
    "comparacion_mayor, comparacion_menor, comparacion_igual\n",
    "(array([ True,  True,  True,  True,  True,  True]),\n",
    " array([False, False, False, False, False, False]),\n",
    " array([False, False, False, False, False, False]))\n"
   ]
  },
  {
   "cell_type": "markdown",
   "id": "f04dc31f-ac5d-49f8-b2df-56309bcb819a",
   "metadata": {},
   "source": [
    "#### Por tu cuenta\n",
    "\n",
    "Crea un arreglo de los valores que vayan del 1 al 5, y luego elvealo al cuadrado usando **"
   ]
  },
  {
   "cell_type": "code",
   "execution_count": null,
   "id": "11c82b43-a26b-4b77-ae97-b8386c278888",
   "metadata": {},
   "outputs": [],
   "source": [
    "import numpy as np\n",
    "\n",
    "arr = np.arange(1, 6)\n",
    "arr_cuadrado = arr ** 2\n",
    "\n",
    "arr_cuadrado"
   ]
  },
  {
   "cell_type": "code",
   "execution_count": null,
   "id": "0ad94702-4b00-4842-ba5a-a66507244b09",
   "metadata": {},
   "outputs": [],
   "source": [
    "array([ 1,  4,  9, 16, 25])"
   ]
  },
  {
   "cell_type": "markdown",
   "id": "f41f14b1-01d8-442e-b531-f5fa0f0548b2",
   "metadata": {},
   "source": [
    "### 7.3.2.- Métodos de Cálculo"
   ]
  },
  {
   "cell_type": "markdown",
   "id": "f358182e-1d2b-4c85-9e45-cc051902608d",
   "metadata": {},
   "source": [
    "Considera el siguiente arreglo \n",
    "\n",
    "ventas=np.array( [[554,606,710,851],[1244,898,416,1763],\n",
    " [841,655,1105,1067]])\n"
   ]
  },
  {
   "cell_type": "code",
   "execution_count": null,
   "id": "62b63afa-5b31-4302-b574-54de2e11c304",
   "metadata": {},
   "outputs": [],
   "source": [
    "import numpy as np\n",
    "\n",
    "ventas = np.array([[554, 606, 710, 851], \n",
    "                   [1244, 898, 416, 1763], \n",
    "                   [841, 655, 1105, 1067]])\n",
    "\n",
    "suma_total = np.sum(ventas)\n",
    "suma_columnas = np.sum(ventas, axis=0)\n",
    "suma_filas = np.sum(ventas, axis=1)\n",
    "\n",
    "promedio_total = np.mean(ventas)\n",
    "promedio_columnas = np.mean(ventas, axis=0)\n",
    "promedio_filas = np.mean(ventas, axis=1)\n",
    "\n",
    "suma_total, suma_columnas, suma_filas, promedio_total, promedio_co\n",
    "(10130, \n",
    " array([2639, 2159, 2231, 3681]), \n",
    " array([2721, 4321, 3668]), \n",
    " 844.1666666666666, \n",
    " array([879.66666667, 719.66666667, 743.66666667, 1227.        ]), \n",
    " array([ 680.25, 1320.25, 916.75]))\n"
   ]
  },
  {
   "cell_type": "markdown",
   "id": "0b33e26b-2f84-4781-8752-12add9733bb5",
   "metadata": {},
   "source": [
    "Podemos usar métodos para calcular la sum, min, max, mean, std, var. "
   ]
  },
  {
   "cell_type": "code",
   "execution_count": null,
   "id": "4b99c6a9-d05c-4a90-87c1-5dbb23bb249c",
   "metadata": {},
   "outputs": [],
   "source": [
    "suma = np.sum(ventas)\n",
    "minimo = np.min(ventas)\n",
    "maximo = np.max(ventas)\n",
    "media = np.mean(ventas)\n",
    "desv_estandar = np.std(ventas)\n",
    "varianza = np.var(ventas)\n",
    "\n",
    "suma, minimo, maximo, media, desv_estandar, varianza"
   ]
  },
  {
   "cell_type": "code",
   "execution_count": null,
   "id": "c371d504-5563-49b4-b758-e74a1affdade",
   "metadata": {},
   "outputs": [],
   "source": [
    "(10130, 416, 1763, 844.1666666666666, 368.5582443185182, 135832.80555555556)"
   ]
  },
  {
   "cell_type": "markdown",
   "id": "4fc48e4b-2a8d-40d6-ba91-eb30e2f74b0f",
   "metadata": {},
   "source": [
    "También es posible hacerlo por filas y columnas. Checa como se hace con axis = 1 y 0"
   ]
  },
  {
   "cell_type": "code",
   "execution_count": null,
   "id": "27844143-2c16-4e20-a7f4-6802139181cd",
   "metadata": {},
   "outputs": [],
   "source": [
    "suma_filas = np.sum(ventas, axis=1)\n",
    "suma_columnas = np.sum(ventas, axis=0)\n",
    "\n",
    "min_filas = np.min(ventas, axis=1)\n",
    "min_columnas = np.min(ventas, axis=0)\n",
    "\n",
    "max_filas = np.max(ventas, axis=1)\n",
    "max_columnas = np.max(ventas, axis=0)\n",
    "\n",
    "media_filas = np.mean(ventas, axis=1)\n",
    "media_columnas = np.mean(ventas, axis=0)\n",
    "\n",
    "std_filas = np.std(ventas, axis=1)\n",
    "std_columnas = np.std(ventas, axis=0)\n",
    "\n",
    "var_filas = np.var(ventas, axis=1)\n",
    "var_columnas = np.var(ventas, axis=0)\n",
    "\n",
    "(suma_filas, suma_columnas, min_filas, min_columnas, max_filas, max_columnas, \n",
    " media_filas, media_columnas, std_filas, std_columnas, var_filas, var_columnas)"
   ]
  },
  {
   "cell_type": "code",
   "execution_count": null,
   "id": "24329b3a-551e-4f32-860f-b7b9335c4712",
   "metadata": {},
   "outputs": [],
   "source": [
    "(array([2721, 4321, 3668]), \n",
    " array([2639, 2159, 2231, 3681]), \n",
    " array([554, 416, 655]), \n",
    " array([554, 606, 416, 851]), \n",
    " array([851, 1763, 1105]), \n",
    " array([1244, 898, 1105, 1763]), \n",
    " array([ 680.25, 1080.25, 917. ]), \n",
    " array([879.66666667, 719.66666667, 743.66666667, 1227. ]), \n",
    " array([121.71512226, 526.35131384, 183.69577671]), \n",
    " array([285.47737016, 128.00913026, 298.22119706, 395.34301187]), \n",
    " array([14814.1875, 277051.1875, 33742. ]), \n",
    " array([81500.22222222, 16392.22222222, 88938.22222222, 156299.33333333]))\n"
   ]
  },
  {
   "cell_type": "markdown",
   "id": "e4b63208-01e1-4caf-b071-d748fc92cac2",
   "metadata": {},
   "source": [
    "#### Por tu cuenta\n",
    "\n",
    "Usa el generador de numeros aleatoreos de numpy (np.random.randint) para crear una rreglo de 12 calificaciones aleatorias del 60 al 100, y luego dale forma en una matriz de 3x4. Calcula el promedio de todas las calificaciones, el promedio de cada columna y de cada fila. "
   ]
  },
  {
   "cell_type": "code",
   "execution_count": null,
   "id": "fd074537-07c6-4f51-8d20-217a489c4ae0",
   "metadata": {},
   "outputs": [],
   "source": [
    "import numpy as np\n",
    "\n",
    "calificaciones = np.random.randint(60, 101, 12).reshape(3, 4)\n",
    "\n",
    "promedio_total = np.mean(calificaciones)\n",
    "promedio_columnas = np.mean(calificaciones, axis=0)\n",
    "promedio_filas = np.mean(calificaciones, axis=1)\n",
    "\n",
    "calificaciones, promedio_total, promedio_columnas, promedio_filas"
   ]
  },
  {
   "cell_type": "code",
   "execution_count": null,
   "id": "ecca310d-e9df-4cc5-ad5a-db3b9f3dd206",
   "metadata": {},
   "outputs": [],
   "source": [
    "(array([[ 78,  89,  95,  74],\n",
    "        [ 82,  90,  97,  87],\n",
    "        [ 73,  99,  80,  93]]), \n",
    " 86.08333333333333, \n",
    " array([77.66666667, 92.66666667, 90.66666667, 84.66666667]), \n",
    " array([84., 89., 86.]))"
   ]
  },
  {
   "cell_type": "markdown",
   "id": "fc6ab829-7417-43f3-942b-a28077f414bb",
   "metadata": {},
   "source": [
    "## 7.4.- Indexando y Cortando arreglos"
   ]
  },
  {
   "cell_type": "markdown",
   "id": "c969a299-6e36-4460-a97c-4f776bbe3740",
   "metadata": {},
   "source": [
    "Crea el arreglo\n",
    "\n",
    "ventas=np.array ([[ 554, 606, 710, 851],\n",
    " [1244, 898, 416, 1763],\n",
    " [ 841, 655, 1105, 1067]])\n",
    " \n",
    " - Selecciona el item 2,1\n",
    " - Selecciona el item 1,3\n",
    " - Selecciona la fila 1"
   ]
  },
  {
   "cell_type": "code",
   "execution_count": null,
   "id": "dc7dce56-e29e-45aa-adc1-ac67a936f86e",
   "metadata": {},
   "outputs": [],
   "source": [
    "import numpy as np\n",
    "\n",
    "ventas = np.array([\n",
    "    [554, 606, 710, 851],\n",
    "    [1244, 898, 416, 1763],\n",
    "    [841, 655, 1105, 1067]\n",
    "])\n",
    "\n",
    "item_2_1 = ventas[2, 1]\n",
    "\n",
    "item_1_3 = ventas[1, 3]\n",
    "\n",
    "fila_1 = ventas[1, :]\n",
    "\n",
    "item_2_1, item_1_3, fila_1"
   ]
  },
  {
   "cell_type": "code",
   "execution_count": null,
   "id": "ddc033d1-8c0c-48ef-8d83-5915df766fb9",
   "metadata": {},
   "outputs": [],
   "source": [
    "(655, 1763, array([1244,  898,  416, 1763]))"
   ]
  },
  {
   "cell_type": "markdown",
   "id": "d6ff1f34-3be0-4546-abbd-74d4b8e13e53",
   "metadata": {},
   "source": [
    "Solicita las filas con índices 0 y 1"
   ]
  },
  {
   "cell_type": "code",
   "execution_count": null,
   "id": "9dee066c-16bd-431e-9118-9662c6fcb08a",
   "metadata": {},
   "outputs": [],
   "source": [
    "import numpy as np\n",
    "\n",
    "ventas = np.array([\n",
    "    [554, 606, 710, 851],\n",
    "    [1244, 898, 416, 1763],\n",
    "    [841, 655, 1105, 1067]\n",
    "])\n",
    "\n",
    "resultado = ventas[:2, :]\n",
    "\n",
    "resultado\n",
    "array([[ 554,  606,  710,  851],\n",
    "       [1244,  898,  416, 1763]])"
   ]
  },
  {
   "cell_type": "markdown",
   "id": "f24b5167-113b-4444-9e32-67c12458f5eb",
   "metadata": {},
   "source": [
    "Ahora para solicitar las filas con indices 1 y 2"
   ]
  },
  {
   "cell_type": "code",
   "execution_count": null,
   "id": "5154ad7e-fc6c-4b61-9841-6dd7c7fd34c9",
   "metadata": {},
   "outputs": [],
   "source": [
    "import numpy as np\n",
    "\n",
    "ventas = np.array([\n",
    "    [554, 606, 710, 851],\n",
    "    [1244, 898, 416, 1763],\n",
    "    [841, 655, 1105, 1067]\n",
    "])\n",
    "\n",
    "resultado = ventas[1:3, :]\n",
    "\n",
    "resultado\n",
    "array([[1244,  898,  416, 1763],\n",
    "       [ 841,  655, 1105, 1067]])"
   ]
  },
  {
   "cell_type": "markdown",
   "id": "c33757ef-e644-4547-9727-f310d0237e90",
   "metadata": {},
   "source": [
    "Quieres solo los elementos de la primera columna?"
   ]
  },
  {
   "cell_type": "code",
   "execution_count": null,
   "id": "b0fbfc3a-1414-47be-94ac-df18d65cafc7",
   "metadata": {},
   "outputs": [],
   "source": [
    "import numpy as np\n",
    "\n",
    "ventas = np.array([\n",
    "    [554, 606, 710, 851],\n",
    "    [1244, 898, 416, 1763],\n",
    "    [841, 655, 1105, 1067]\n",
    "])\n",
    "\n",
    "resultado = ventas[:, 0]\n",
    "\n",
    "resultado\n",
    "array([ 554, 1244,  841])"
   ]
  },
  {
   "cell_type": "markdown",
   "id": "f8969bc1-1bbf-42c0-a38d-c59f861738e2",
   "metadata": {},
   "source": [
    "Que la las columnas con indices 0 y 2?"
   ]
  },
  {
   "cell_type": "code",
   "execution_count": null,
   "id": "b8eb35a1-cf95-481f-8f4c-548132319028",
   "metadata": {},
   "outputs": [],
   "source": [
    "import numpy as np\n",
    "\n",
    "ventas = np.array([\n",
    "    [554, 606, 710, 851],\n",
    "    [1244, 898, 416, 1763],\n",
    "    [841, 655, 1105, 1067]\n",
    "])\n",
    "\n",
    "resultado = ventas[:, [0, 2]]\n",
    "\n",
    "resultado\n",
    "array([[ 554,  710],\n",
    "       [1244,  416],\n",
    "       [ 841, 1105]])"
   ]
  },
  {
   "cell_type": "markdown",
   "id": "cb73821a-c475-42e6-a7ea-503f89504517",
   "metadata": {},
   "source": [
    "#### Por tu cuenta\n",
    "\n",
    "Dado el siguiente arreglo\n",
    "\n",
    "array([[1,2,3,4,5],\n",
    "     [6,7,8,9,10],\n",
    "     [11,12,13,14,15]])\n",
    "\n",
    "- Selecciona la segunda fila\n",
    "- Selecciona la primera y tercera fila\n",
    "- Selecciona las tres columnas de enmedio"
   ]
  },
  {
   "cell_type": "code",
   "execution_count": null,
   "id": "675c1945-945d-4b06-b0f6-72daed5b59a7",
   "metadata": {},
   "outputs": [],
   "source": [
    "import numpy as np\n",
    "\n",
    "arr = np.array([\n",
    "    [1, 2, 3, 4, 5],\n",
    "    [6, 7, 8, 9, 10],\n",
    "    [11, 12, 13, 14, 15]\n",
    "])\n",
    "\n",
    "fila_2 = arr[1, :]\n",
    "fila_1_3 = arr[[0, 2], :]\n",
    "columnas_medio = arr[:, 1:4]\n",
    "\n",
    "fila_2, fila_1_3, columnas_medio"
   ]
  },
  {
   "cell_type": "code",
   "execution_count": null,
   "id": "9d980184-42de-45f3-8bd1-b327cbb0f14c",
   "metadata": {},
   "outputs": [],
   "source": [
    "(array([ 6,  7,  8,  9, 10]),\n",
    " array([[ 1,  2,  3,  4,  5],\n",
    "        [11, 12, 13, 14, 15]]),\n",
    " array([[ 2,  3,  4],\n",
    "        [ 7,  8,  9],\n",
    "        [12, 13, 14]])\n",
    ")"
   ]
  },
  {
   "cell_type": "markdown",
   "id": "8ed698fe-8ed9-4b5a-9d46-245c1c01cda3",
   "metadata": {},
   "source": [
    "### 7.4.2.- Transponer"
   ]
  },
  {
   "cell_type": "markdown",
   "id": "c7fd8c57-a81a-46ca-a28a-798ba2768691",
   "metadata": {},
   "source": [
    "Con **reshape** puedes producir una copia superficial del arreglo con una nueva dimension. \n",
    "\n",
    "ventas = np.array([[ 500, 600, 550, 800],\n",
    " [1200, 800, 400,1000]])\n",
    "\n",
    "Usa el arreglo anterior para darle dimension de 1x8"
   ]
  },
  {
   "cell_type": "code",
   "execution_count": null,
   "id": "58e2c7e7-96a8-4c4b-a295-57302850205f",
   "metadata": {},
   "outputs": [],
   "source": [
    "import numpy as np\n",
    "\n",
    "ventas = np.array([\n",
    "    [500, 600, 550, 800],\n",
    "    [1200, 800, 400, 1000]\n",
    "])\n",
    "\n",
    "resultado = ventas.reshape(1, 8)\n",
    "\n",
    "resultado"
   ]
  },
  {
   "cell_type": "code",
   "execution_count": null,
   "id": "e16542fe-41f9-4087-982b-47cca3737cba",
   "metadata": {},
   "outputs": [],
   "source": [
    "array([[ 500,  600,  550,  800, 1200,  800,  400, 1000]])"
   ]
  },
  {
   "cell_type": "markdown",
   "id": "e6acba71-89bf-4dad-9a32-97d0456a9d42",
   "metadata": {},
   "source": [
    "El metodo **resize** modifica la forma del original (no crea copia)"
   ]
  },
  {
   "cell_type": "code",
   "execution_count": null,
   "id": "d3a09d74-276a-4058-b7eb-626be83f46ca",
   "metadata": {},
   "outputs": [],
   "source": [
    "import numpy as np\n",
    "\n",
    "ventas = np.array([\n",
    "    [500, 600, 550, 800],\n",
    "    [1200, 800, 400, 1000]\n",
    "])\n",
    "\n",
    "ventas.resize(1, 8)\n",
    "\n",
    "ventas"
   ]
  },
  {
   "cell_type": "code",
   "execution_count": null,
   "id": "0b6c4b5e-217b-452e-bb6a-da4bc127160c",
   "metadata": {},
   "outputs": [],
   "source": [
    "array([[ 500,  600,  550,  800, 1200,  800,  400, 1000]])"
   ]
  },
  {
   "cell_type": "markdown",
   "id": "e29a637e-549e-4c80-b2c7-0ec892cc5823",
   "metadata": {},
   "source": [
    "Y **transpose** rapidamente le da la vuelta a filas y columnas, este se hace aplicando el atributo T, que no modifica el original, solo una vista."
   ]
  },
  {
   "cell_type": "code",
   "execution_count": null,
   "id": "405d533c-7fe5-40a6-b050-09768d004b2e",
   "metadata": {},
   "outputs": [],
   "source": [
    "array([[ 500, 1200],\n",
    "       [ 600,  800],\n",
    "       [ 550,  400],\n",
    "       [ 800, 1000]])"
   ]
  },
  {
   "cell_type": "markdown",
   "id": "446be823-0988-4ba6-b774-dd4be5653627",
   "metadata": {},
   "source": [
    "## 7.5.- Pandas - Series"
   ]
  },
  {
   "cell_type": "markdown",
   "id": "b3a5d8b4-6ecf-4679-bf47-9903d80d6d30",
   "metadata": {},
   "source": [
    "Vamos a usar estos datos para Series - tiempo_web = pd.Series([160,256,98,108])\n",
    "\n",
    "Este es el tiempo que invierten en videojuegos 4 estudiantes"
   ]
  },
  {
   "cell_type": "code",
   "execution_count": null,
   "id": "e5e4af90-829b-41bd-83ee-9d98686e646c",
   "metadata": {},
   "outputs": [],
   "source": [
    "import pandas as pd\n",
    "\n",
    "tiempo_web = pd.Series([160, 256, 98, 108])\n",
    "\n",
    "print(tiempo_web)"
   ]
  },
  {
   "cell_type": "code",
   "execution_count": null,
   "id": "90dcae4b-11c5-477d-a2e6-6f74e51e4ba8",
   "metadata": {},
   "outputs": [],
   "source": [
    "0    160\n",
    "1    256\n",
    "2     98\n",
    "3    108\n",
    "dtype: int64"
   ]
  },
  {
   "cell_type": "markdown",
   "id": "6328aaa1-5e96-4f5f-8e8a-d3a0955eb951",
   "metadata": {},
   "source": [
    "Para crear una serie con el mismo elemento"
   ]
  },
  {
   "cell_type": "code",
   "execution_count": null,
   "id": "533c703a-ffaf-4bbb-9bc4-91265e3a1597",
   "metadata": {},
   "outputs": [],
   "source": [
    "import pandas as pd\n",
    "\n",
    "serie_repetida = pd.Series([5] * 4)\n",
    "\n",
    "print(serie_repetida)\n",
    "0    5\n",
    "1    5\n",
    "2    5\n",
    "3    5\n",
    "dtype: int64"
   ]
  },
  {
   "cell_type": "markdown",
   "id": "84913618-dc50-4d63-bfae-c8df7ba75e90",
   "metadata": {},
   "source": [
    "Acceder a un elemento es facil"
   ]
  },
  {
   "cell_type": "code",
   "execution_count": null,
   "id": "f554ada1-b2ff-4cc4-b78e-e762f1c798f4",
   "metadata": {},
   "outputs": [],
   "source": [
    "import pandas as pd\n",
    "\n",
    "tiempo_web = pd.Series([160, 256, 98, 108])\n",
    "\n",
    "print(tiempo_web[1])\n",
    "256"
   ]
  },
  {
   "cell_type": "markdown",
   "id": "53762262-5359-4a6a-9b5b-677280c94372",
   "metadata": {},
   "source": [
    "Series tiene acceso a los mismos metodos que arreglos para estadistica descriptiva"
   ]
  },
  {
   "cell_type": "code",
   "execution_count": null,
   "id": "1825114c-1497-4321-9d4d-938ae5b677f7",
   "metadata": {},
   "outputs": [],
   "source": [
    "import pandas as pd\n",
    "\n",
    "tiempo_web = pd.Series([160, 256, 98, 108])\n",
    "\n",
    "print(tiempo_web.mean())\n",
    "print(tiempo_web.median())\n",
    "print(tiempo_web.min())\n",
    "print(tiempo_web.max())\n",
    "print(tiempo_web.std())\n",
    "155.5\n",
    "134.0\n",
    "98\n",
    "256\n",
    "69.6619772367584"
   ]
  },
  {
   "cell_type": "markdown",
   "id": "da94bc72-a01b-4e21-a69d-aea7ad822baf",
   "metadata": {},
   "source": [
    "Tambien, todo esto se puede resumir con **describe**"
   ]
  },
  {
   "cell_type": "code",
   "execution_count": null,
   "id": "c00b33fc-5444-485f-b5c2-d9166b3f24e2",
   "metadata": {},
   "outputs": [],
   "source": [
    "import pandas as pd\n",
    "\n",
    "tiempo_web = pd.Series([160, 256, 98, 108])\n",
    "\n",
    "print(tiempo_web.describe())\n",
    "count      4.000000\n",
    "mean     155.500000\n",
    "std       69.661977\n",
    "min       98.000000\n",
    "25%      106.500000\n",
    "50%      134.000000\n",
    "75%      183.000000\n",
    "max      256.000000\n",
    "dtype: float64"
   ]
  },
  {
   "cell_type": "markdown",
   "id": "699ec1ca-880f-4b3b-8bff-b0bbab8bd490",
   "metadata": {},
   "source": [
    "También podemos personalizar los indices de series a traves de index\n",
    "\n",
    "['Laura','Daniel','Alberto','Eva'] \n",
    "\n",
    "Asigna esos nombres"
   ]
  },
  {
   "cell_type": "code",
   "execution_count": null,
   "id": "431dd272-ae38-4c30-aff9-c66824336000",
   "metadata": {},
   "outputs": [],
   "source": [
    "import pandas as pd\n",
    "\n",
    "tiempo_web = pd.Series([160, 256, 98, 108], index=['Laura', 'Daniel', 'Alberto', 'Eva'])\n",
    "\n",
    "print(tiempo_web)"
   ]
  },
  {
   "cell_type": "code",
   "execution_count": null,
   "id": "51517755-9a53-41bd-9804-d76aca88820d",
   "metadata": {},
   "outputs": [],
   "source": [
    "Laura      160\n",
    "Daniel     256\n",
    "Alberto     98\n",
    "Eva        108\n",
    "dtype: int64"
   ]
  },
  {
   "cell_type": "markdown",
   "id": "2493cf0c-c4e6-41ae-b13d-2dd390c2a460",
   "metadata": {},
   "source": [
    "O puedes usar un diccionario para eso:"
   ]
  },
  {
   "cell_type": "code",
   "execution_count": null,
   "id": "41c0aa8c-e1a5-432d-8274-b8452c635249",
   "metadata": {},
   "outputs": [],
   "source": [
    "import pandas as pd\n",
    "\n",
    "datos = {'Laura': 160, 'Daniel': 256, 'Alberto': 98, 'Eva': 108}\n",
    "tiempo_web = pd.Series(datos)\n",
    "\n",
    "print(tiempo_web)"
   ]
  },
  {
   "cell_type": "code",
   "execution_count": null,
   "id": "21cf3969-a19e-4e88-9a46-d4c90e005058",
   "metadata": {},
   "outputs": [],
   "source": [
    "Laura      160\n",
    "Daniel     256\n",
    "Alberto     98\n",
    "Eva        108\n",
    "dtype: int64"
   ]
  },
  {
   "cell_type": "markdown",
   "id": "96b10252-661d-40dd-8272-9aec8d23fa4f",
   "metadata": {},
   "source": [
    "Puedes llamar a los elementos personalizados"
   ]
  },
  {
   "cell_type": "code",
   "execution_count": null,
   "id": "9840eec1-0ffe-43fc-8bde-c04fef78798d",
   "metadata": {},
   "outputs": [],
   "source": [
    "import pandas as pd\n",
    "\n",
    "datos = {'Laura': 160, 'Daniel': 256, 'Alberto': 98, 'Eva': 108}\n",
    "tiempo_web = pd.Series(datos)\n",
    "\n",
    "print(tiempo_web['Daniel'])\n",
    "256"
   ]
  },
  {
   "cell_type": "markdown",
   "id": "cc54c19a-3e01-4b0f-a387-8b30c1f73249",
   "metadata": {},
   "source": [
    "#### Por tu cuenta\n",
    "\n",
    "Usa el generador aleatorio de NumPy (np.random.randint) para generar 6 calificaciones del 60 al 100 y guardarlos en una serie. \n",
    "\n",
    "A continuación arma las siguientes tareas:\n",
    "\n",
    "- Convierte el arreglo en una serie llamada calificacion\n",
    "- Determina la min, max y promedio\n",
    "- Produce TODAS las estadisticas descriptivas"
   ]
  },
  {
   "cell_type": "code",
   "execution_count": null,
   "id": "0c738c46-099d-4a90-9dd7-e75f1fc17d52",
   "metadata": {},
   "outputs": [],
   "source": [
    "import numpy as np\n",
    "import pandas as pd\n",
    "\n",
    "calificaciones = np.random.randint(60, 101, 6)\n",
    "calificacion = pd.Series(calificaciones, name=\"Calificaciones\")\n",
    "\n",
    "min_cal = calificacion.min()\n",
    "max_cal = calificacion.max()\n",
    "promedio_cal = calificacion.mean()\n",
    "\n",
    "estadisticas = calificacion.describe()\n",
    "\n",
    "print(f\"Calificaciones:\\n{calificacion}\\n\")\n",
    "print(f\"Mínimo: {min_cal}\")\n",
    "print(f\"Máximo: {max_cal}\")\n",
    "print(f\"Promedio: {promedio_cal:.2f}\\n\")\n",
    "print(\"Estadísticas descriptivas:\")\n",
    "print(estadisticas)"
   ]
  },
  {
   "cell_type": "code",
   "execution_count": null,
   "id": "4d0ce195-7796-4f58-a524-b7da09833be7",
   "metadata": {},
   "outputs": [],
   "source": [
    "Calificaciones:\n",
    "0    93\n",
    "1    77\n",
    "2    84\n",
    "3    63\n",
    "4    86\n",
    "5    91\n",
    "Name: Calificaciones, dtype: int64\n",
    "\n",
    "Mínimo: 63\n",
    "Máximo: 93\n",
    "Promedio: 82.33\n",
    "\n",
    "Estadísticas descriptivas:\n",
    "count     6.000000\n",
    "mean     82.333333\n",
    "std      11.675088\n",
    "min      63.000000\n",
    "25%      77.000000\n",
    "50%      85.000000\n",
    "75%      91.250000\n",
    "max      93.000000\n",
    "Name: Calificaciones, dtype: float64"
   ]
  },
  {
   "cell_type": "markdown",
   "id": "e1d8562d-ea27-411c-8862-52d3582dceaf",
   "metadata": {},
   "source": [
    "## 7.6.- Pandas - DataFrames"
   ]
  },
  {
   "cell_type": "markdown",
   "id": "fd5a2577-feb0-4dab-bfd5-af9d59bcfe5e",
   "metadata": {},
   "source": [
    "##### Crear un Dataframe de un diccionario\n",
    "\n",
    "Agarra este diccionario y conviertelo en un dataframe\n",
    "\n",
    " reg_peso = {'Vanesa':[68,67,66,65],'Kevin':[89,89,90,88],\n",
    " 'Fernanda':[59,60,60,62],'Patricia':[70,68,67,65]}"
   ]
  },
  {
   "cell_type": "code",
   "execution_count": null,
   "id": "63b5157c-a78c-4c4f-8485-f758c37389af",
   "metadata": {},
   "outputs": [],
   "source": [
    "import pandas as pd\n",
    "\n",
    "reg_peso = {\n",
    "    'Vanesa': [68, 67, 66, 65],\n",
    "    'Kevin': [89, 89, 90, 88],\n",
    "    'Fernanda': [59, 60, 60, 62],\n",
    "    'Patricia': [70, 68, 67, 65]\n",
    "}\n",
    "\n",
    "df = pd.DataFrame(reg_peso)\n",
    "print(df)"
   ]
  },
  {
   "cell_type": "code",
   "execution_count": null,
   "id": "cd368165-eb15-486b-87e4-8707bcc57418",
   "metadata": {},
   "outputs": [],
   "source": [
    "   Vanesa  Kevin  Fernanda  Patricia\n",
    "0      68     89        59        70\n",
    "1      67     89        60        68\n",
    "2      66     90        60        67\n",
    "3      65     88        62        65"
   ]
  },
  {
   "cell_type": "markdown",
   "id": "dbc1ed3b-ea2f-489f-8b47-68c90c6e37f3",
   "metadata": {},
   "source": [
    "##### El atributo Index\n",
    "\n",
    "Añade los siguientes indices personalizados\n",
    "\n",
    "peso.index = ['Mes 1','Mes 2','Mes 3','Mes 4']"
   ]
  },
  {
   "cell_type": "code",
   "execution_count": null,
   "id": "5fb7e38f-4046-401e-8ba4-09e01d79fc56",
   "metadata": {},
   "outputs": [],
   "source": [
    "import pandas as pd\n",
    "\n",
    "reg_peso = {\n",
    "    'Vanesa': [68, 67, 66, 65],\n",
    "    'Kevin': [89, 89, 90, 88],\n",
    "    'Fernanda': [59, 60, 60, 62],\n",
    "    'Patricia': [70, 68, 67, 65]\n",
    "}\n",
    "\n",
    "peso = pd.DataFrame(reg_peso)\n",
    "peso.index = ['Mes 1', 'Mes 2', 'Mes 3', 'Mes 4']\n",
    "\n",
    "print(peso)"
   ]
  },
  {
   "cell_type": "code",
   "execution_count": null,
   "id": "c7fcaed2-3ecf-4375-8e6b-2405b3656327",
   "metadata": {},
   "outputs": [],
   "source": [
    "       Vanesa  Kevin  Fernanda  Patricia\n",
    "Mes 1      68     89        59        70\n",
    "Mes 2      67     89        60        68\n",
    "Mes 3      66     90        60        67\n",
    "Mes 4      65     88        62        65"
   ]
  },
  {
   "cell_type": "markdown",
   "id": "5865da9f-efe7-4389-8930-b80dfa1dfb4c",
   "metadata": {},
   "source": [
    "##### Accesar Columnas\n",
    "\n",
    "Selecciona la información de Fernanda"
   ]
  },
  {
   "cell_type": "code",
   "execution_count": null,
   "id": "ad5133f7-8a39-4064-b38d-475570f0a83d",
   "metadata": {},
   "outputs": [],
   "source": [
    "print(peso['Fernanda'])\n",
    "Mes 1    59\n",
    "Mes 2    60\n",
    "Mes 3    60\n",
    "Mes 4    62\n",
    "Name: Fernanda, dtype: int64"
   ]
  },
  {
   "cell_type": "markdown",
   "id": "de73087e-5f5a-4c42-a28d-c3d49adc5e62",
   "metadata": {},
   "source": [
    "Selecciona la de Patricia pero como atributo"
   ]
  },
  {
   "cell_type": "code",
   "execution_count": null,
   "id": "922e871d-4817-43ae-80f4-0c3fa0689fcd",
   "metadata": {},
   "outputs": [],
   "source": [
    "print(peso.Patricia)\n",
    "Mes 1    70\n",
    "Mes 2    68\n",
    "Mes 3    67\n",
    "Mes 4    65\n",
    "Name: Patricia, dtype: int64"
   ]
  },
  {
   "cell_type": "markdown",
   "id": "ddc61884-7689-47b4-acad-14c07386226c",
   "metadata": {},
   "source": [
    "##### Loc y iloc\n",
    "\n",
    "Selecciona la información del Mes1 usando Loc"
   ]
  },
  {
   "cell_type": "code",
   "execution_count": null,
   "id": "1133eeb0-6a7f-4ee9-aa19-1b5d69e9aba9",
   "metadata": {},
   "outputs": [],
   "source": [
    "print(peso.loc['Mes 1'])\n",
    "Vanesa     68\n",
    "Kevin      89\n",
    "Fernanda   59\n",
    "Patricia   70\n",
    "Name: Mes 1, dtype: int64"
   ]
  },
  {
   "cell_type": "markdown",
   "id": "43b4a2a9-021f-461f-96c5-a711cd27354d",
   "metadata": {},
   "source": [
    "Ahora solo la fila 1 usando iloc"
   ]
  },
  {
   "cell_type": "code",
   "execution_count": null,
   "id": "77d9df78-af24-4652-bade-bf87cbbafd10",
   "metadata": {},
   "outputs": [],
   "source": [
    "print(peso.iloc[1])\n",
    "Vanesa     67\n",
    "Kevin      89\n",
    "Fernanda   60\n",
    "Patricia   68\n",
    "Name: Mes 2, dtype: int64"
   ]
  },
  {
   "cell_type": "markdown",
   "id": "e41971f3-a6cb-4dd9-91a3-58d240d8baa4",
   "metadata": {},
   "source": [
    "Ahora del Mes 1 al Mes 3 usando loc"
   ]
  },
  {
   "cell_type": "code",
   "execution_count": null,
   "id": "0aead456-79b0-4de7-895b-064466924796",
   "metadata": {},
   "outputs": [],
   "source": [
    "print(peso.loc['Mes 1':'Mes 3'])\n",
    "       Vanesa  Kevin  Fernanda  Patricia\n",
    "Mes 1      68     89        59        70\n",
    "Mes 2      67     89        60        68\n",
    "Mes 3      66     90        60        67"
   ]
  },
  {
   "cell_type": "markdown",
   "id": "f3c15123-91f2-4e18-be70-ea286393715b",
   "metadata": {},
   "source": [
    "Saca filas especificas (mes 1 y 3) usando loc"
   ]
  },
  {
   "cell_type": "code",
   "execution_count": null,
   "id": "f55a53bb-ea3e-4800-a10f-a1d2526ce6d7",
   "metadata": {},
   "outputs": [],
   "source": [
    "print(peso.loc[['Mes 1', 'Mes 3']])\n",
    "       Vanesa  Kevin  Fernanda  Patricia\n",
    "Mes 1      68     89        59        70\n",
    "Mes 3      66     90        60        67"
   ]
  },
  {
   "cell_type": "markdown",
   "id": "047a7464-3cc9-4a78-8f91-6eab1f4ebea1",
   "metadata": {},
   "source": [
    "Y ahora los Meses 2 y 3 de Vanesa y Patricia solamente con loc"
   ]
  },
  {
   "cell_type": "code",
   "execution_count": null,
   "id": "de605887-1a1b-4443-ab51-34ccabc0da62",
   "metadata": {},
   "outputs": [],
   "source": [
    "print(peso.loc[['Mes 2', 'Mes 3'], ['Vanesa', 'Patricia']])\n",
    "       Vanesa  Patricia\n",
    "Mes 2      67        68\n",
    "Mes 3      66        67"
   ]
  },
  {
   "cell_type": "markdown",
   "id": "dff5c389-8633-4f16-bb42-e11a3f1430a1",
   "metadata": {},
   "source": [
    "##### Indices Booleanos\n",
    "\n",
    "Dime los pesos mayores a 70kg en la tabla"
   ]
  },
  {
   "cell_type": "code",
   "execution_count": null,
   "id": "d3b29ad2-ac97-49fa-9c0c-1c0521dffd22",
   "metadata": {},
   "outputs": [],
   "source": [
    "print(peso[peso > 70])"
   ]
  },
  {
   "cell_type": "code",
   "execution_count": null,
   "id": "ddd3581c-5051-4ea0-9dac-286c41a9eca3",
   "metadata": {},
   "outputs": [],
   "source": [
    "       Vanesa  Kevin  Fernanda  Patricia\n",
    "Mes 1     NaN     89       NaN      70.0\n",
    "Mes 2     NaN     89       NaN       NaN\n",
    "Mes 3     NaN     90       NaN       NaN\n",
    "Mes 4     NaN     88       NaN       NaN"
   ]
  },
  {
   "cell_type": "markdown",
   "id": "57e29244-e5a0-4ff1-8fb0-a1722694f8e1",
   "metadata": {},
   "source": [
    "Y ahora los pesos mayores a 65kg y menores a 80kg"
   ]
  },
  {
   "cell_type": "code",
   "execution_count": null,
   "id": "1f2f7128-8878-4fe7-a0be-7cf802513daf",
   "metadata": {},
   "outputs": [],
   "source": [
    "print(peso[(peso > 65) & (peso < 80)])"
   ]
  },
  {
   "cell_type": "code",
   "execution_count": null,
   "id": "8d144876-54c7-4afd-8405-6be41f90597f",
   "metadata": {},
   "outputs": [],
   "source": [
    "       Vanesa  Kevin  Fernanda  Patricia\n",
    "Mes 1     68.0     NaN       NaN       NaN\n",
    "Mes 2     67.0     NaN       NaN      68.0\n",
    "Mes 3     66.0     NaN       NaN      67.0\n",
    "Mes 4     65.0     NaN       NaN      65.0"
   ]
  },
  {
   "cell_type": "markdown",
   "id": "90c14bd6-1e0b-4075-aac5-4b535f422e5b",
   "metadata": {},
   "source": [
    "##### Accesar una celda especifica de un Dataframe\n",
    "\n",
    "Que pasa si solo queremos cuanto pesaba Patricia en el mes 3? Usa at"
   ]
  },
  {
   "cell_type": "code",
   "execution_count": null,
   "id": "1bb262d0-6d83-4802-aadf-dbac198386fa",
   "metadata": {},
   "outputs": [],
   "source": [
    "print(peso.at['Mes 3', 'Patricia'])\n",
    "67"
   ]
  },
  {
   "cell_type": "markdown",
   "id": "21bc424c-ee80-447b-8473-6bf8a8f4cf16",
   "metadata": {},
   "source": [
    "Resulta que Kevin en realidad pesaba 85kg en el mes 4, cambia su valor usando at"
   ]
  },
  {
   "cell_type": "code",
   "execution_count": null,
   "id": "47135819-af97-4cea-bb7a-9483bf8cf3ec",
   "metadata": {},
   "outputs": [],
   "source": [
    "peso.at['Mes 4', 'Kevin'] = 85\n",
    "print(peso)"
   ]
  },
  {
   "cell_type": "code",
   "execution_count": null,
   "id": "f7886329-4b1d-467d-a71b-53f8ca53ca0f",
   "metadata": {},
   "outputs": [],
   "source": [
    "       Vanesa  Kevin  Fernanda  Patricia\n",
    "Mes 1      68     89        59        70\n",
    "Mes 2      67     89        60        68\n",
    "Mes 3      66     90        60        67\n",
    "Mes 4      65     85        62        65"
   ]
  },
  {
   "cell_type": "markdown",
   "id": "3d2c9477-5a2d-4c10-9e3d-a95ffa60941b",
   "metadata": {},
   "source": [
    "##### Estádistica descriptiva\n",
    "\n",
    "Puedes usar el metodo **Describe** para sacar todas las estadisticas del dataframe"
   ]
  },
  {
   "cell_type": "code",
   "execution_count": null,
   "id": "99a4bb9a-8837-4142-8a73-bca6cd941204",
   "metadata": {},
   "outputs": [],
   "source": [
    "print(peso.describe())\n",
    "         Vanesa      Kevin   Fernanda   Patricia\n",
    "count   4.000000   4.000000   4.000000   4.000000\n",
    "mean   66.500000  88.250000  60.250000  67.500000\n",
    "std     1.290994   2.217356   1.258306   2.081666\n",
    "min    65.000000  85.000000  59.000000  65.000000\n",
    "25%    65.750000  88.000000  60.000000  66.500000\n",
    "50%    66.500000  89.000000  60.000000  67.000000\n",
    "75%    67.250000  89.250000  60.250000  68.000000\n",
    "max    68.000000  90.000000  62.000000  70.000000"
   ]
  },
  {
   "cell_type": "markdown",
   "id": "c398e7ad-c0c7-4b91-be05-1afb9a28b2cc",
   "metadata": {},
   "source": [
    "También puedes cambiar la cantidad de decimales usando **Precision**"
   ]
  },
  {
   "cell_type": "code",
   "execution_count": null,
   "id": "e23483aa-11e5-488f-a341-0ce6bd2ca718",
   "metadata": {},
   "outputs": [],
   "source": [
    "pd.set_option('precision', 2)\n",
    "print(peso.describe())"
   ]
  },
  {
   "cell_type": "code",
   "execution_count": null,
   "id": "e130504d-22b0-4b29-a6f5-aba46dfc2d9c",
   "metadata": {},
   "outputs": [],
   "source": [
    "         Vanesa  Kevin  Fernanda  Patricia\n",
    "count      4.00   4.00      4.00      4.00\n",
    "mean      66.50  88.25     60.25     67.50\n",
    "std        1.29   2.22      1.26      2.08\n",
    "min       65.00  85.00     59.00     65.00\n",
    "25%       65.75  88.00     60.00     66.50\n",
    "50%       66.50  89.00     60.00     67.00\n",
    "75%       67.25  89.25     60.25     68.00\n",
    "max       68.00  90.00     62.00     70.00"
   ]
  },
  {
   "cell_type": "markdown",
   "id": "62e66306-03f4-443a-917e-f3d10a1e7603",
   "metadata": {},
   "source": [
    "Y también se pueden aplicar los metodos de estadistica descriptiva individuales como mean"
   ]
  },
  {
   "cell_type": "code",
   "execution_count": null,
   "id": "81950ce6-bf4a-4d18-8de5-5a58d24c64ca",
   "metadata": {},
   "outputs": [],
   "source": [
    "print(peso.mean())\n",
    "Vanesa      66.50\n",
    "Kevin       88.25\n",
    "Fernanda    60.25\n",
    "Patricia    67.50\n",
    "dtype: float64"
   ]
  },
  {
   "cell_type": "markdown",
   "id": "467812ad-6fc3-4458-908b-4033b8d8e1b5",
   "metadata": {},
   "source": [
    "##### Transponer\n",
    "\n",
    "Si quisieramos voltear el dataframe, tendríamos que hacer el método T"
   ]
  },
  {
   "cell_type": "code",
   "execution_count": null,
   "id": "c7e2e759-2640-4b2d-8b39-0cd8c411b222",
   "metadata": {},
   "outputs": [],
   "source": [
    "print(peso.T)\n",
    "          Mes 1  Mes 2  Mes 3  Mes 4\n",
    "Vanesa      68     67     66     65\n",
    "Kevin       89     89     90     85\n",
    "Fernanda    59     60     60     62\n",
    "Patricia    70     68     67     65"
   ]
  },
  {
   "cell_type": "markdown",
   "id": "6e48f3ca-e4a7-41ae-8d72-ad5ad28645d8",
   "metadata": {},
   "source": [
    "Y ahora eso nos ayudaría a sacar los estadísticos para los meses en vez de para las personas"
   ]
  },
  {
   "cell_type": "code",
   "execution_count": null,
   "id": "ce0909d6-6404-499c-aa41-866a88d836dd",
   "metadata": {},
   "outputs": [],
   "source": [
    "print(peso.T.describe())\n",
    "       Mes 1  Mes 2  Mes 3  Mes 4\n",
    "count   4.00   4.00   4.00   4.00\n",
    "mean    71.50  71.00  70.75  69.25\n",
    "std     13.62  12.91  13.91  10.61\n",
    "min     59.00  60.00  60.00  62.00\n",
    "25%     65.25  67.25  66.75  65.00\n",
    "50%     69.00  68.50  67.50  65.00\n",
    "75%     75.25  89.00  90.00  85.00\n",
    "max     89.00  89.00  90.00  85.00"
   ]
  },
  {
   "cell_type": "markdown",
   "id": "8066a37e-b1d7-43f9-ab02-2fdc92eb76fb",
   "metadata": {},
   "source": [
    "Y el peso promedio por mes de nuestra gente"
   ]
  },
  {
   "cell_type": "code",
   "execution_count": null,
   "id": "64970fa2-ceed-45c3-a87d-dda435d321f1",
   "metadata": {},
   "outputs": [],
   "source": [
    "print(peso.T.mean())\n",
    "Mes 1    71.50\n",
    "Mes 2    71.00\n",
    "Mes 3    70.75\n",
    "Mes 4    69.25\n",
    "dtype: float64"
   ]
  },
  {
   "cell_type": "markdown",
   "id": "b49b3eee-2eae-409c-8977-e731035f11ce",
   "metadata": {},
   "source": [
    "##### Ordenar el Dataframe\n",
    "\n",
    "Ahora vamos a arreglar el dataframe por fila, con los indices en orden descendente"
   ]
  },
  {
   "cell_type": "code",
   "execution_count": null,
   "id": "3e95f594-f9b0-4ba5-a9ca-63485e8197af",
   "metadata": {},
   "outputs": [],
   "source": [
    "print(peso.sort_index(ascending=False))\n",
    "       Vanesa  Kevin  Fernanda  Patricia\n",
    "Mes 4      65     85        62        65\n",
    "Mes 3      66     90        60        67\n",
    "Mes 2      67     89        60        68\n",
    "Mes 1      68     89        59        70"
   ]
  },
  {
   "cell_type": "markdown",
   "id": "69f1fef4-c2e4-4930-b82d-8b1f8bd73c48",
   "metadata": {},
   "source": [
    "Las columnas en orden ascendente"
   ]
  },
  {
   "cell_type": "code",
   "execution_count": null,
   "id": "82e908f9-97ea-48f0-9b53-7340985b9566",
   "metadata": {},
   "outputs": [],
   "source": [
    "print(peso.sort_index(axis=1, ascending=True))\n",
    "       Fernanda  Kevin  Patricia  Vanesa\n",
    "Mes 1        59     89        70      68\n",
    "Mes 2        60     89        68      67\n",
    "Mes 3        60     90        67      66\n",
    "Mes 4        62     85        65      65"
   ]
  },
  {
   "cell_type": "markdown",
   "id": "29f1f219-b455-4984-ac22-864e7c088638",
   "metadata": {},
   "source": [
    "Y también se vale ordenar los valores según una fila o columna especifica.  El siguiente código ordena de forma descendente los datos del DataFrame con respecto\n",
    "a los valores del Mes 1."
   ]
  },
  {
   "cell_type": "code",
   "execution_count": null,
   "id": "cf6c2851-8e01-4996-a057-c903645feb59",
   "metadata": {},
   "outputs": [],
   "source": [
    "print(peso.sort_values(by='Mes 1', axis=1, ascending=False))"
   ]
  },
  {
   "cell_type": "code",
   "execution_count": null,
   "id": "65255a14-b79c-4ce5-81bc-1ce0e774d059",
   "metadata": {},
   "outputs": [],
   "source": [
    "       Kevin  Patricia  Vanesa  Fernanda\n",
    "Mes 1     89        70      68        59\n",
    "Mes 2     89        68      67        60\n",
    "Mes 3     90        67      66        60\n",
    "Mes 4     85        65      65        62"
   ]
  }
 ],
 "metadata": {
  "kernelspec": {
   "display_name": "Python 3",
   "language": "python",
   "name": "python3"
  },
  "language_info": {
   "codemirror_mode": {
    "name": "ipython",
    "version": 3
   },
   "file_extension": ".py",
   "mimetype": "text/x-python",
   "name": "python",
   "nbconvert_exporter": "python",
   "pygments_lexer": "ipython3",
   "version": "3.8.8"
  }
 },
 "nbformat": 4,
 "nbformat_minor": 5
}
