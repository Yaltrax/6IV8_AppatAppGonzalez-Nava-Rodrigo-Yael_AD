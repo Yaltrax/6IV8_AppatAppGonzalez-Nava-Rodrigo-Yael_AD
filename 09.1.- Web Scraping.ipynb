{
 "cells": [
  {
   "cell_type": "markdown",
   "id": "60e84751-e12f-471a-a779-cd6268b2cafe",
   "metadata": {
    "tags": []
   },
   "source": [
    "# Web Scraping con Python"
   ]
  },
  {
   "cell_type": "markdown",
   "id": "e2e05755-8874-4b1b-b68f-243574073c14",
   "metadata": {},
   "source": [
    "### Librerías"
   ]
  },
  {
   "cell_type": "markdown",
   "id": "5dc5df30-d5b1-4244-b13a-e7bfb769aef5",
   "metadata": {},
   "source": [
    "Vamos a necesitar Selenium, BeautifulSoup y Pandas"
   ]
  },
  {
   "cell_type": "markdown",
   "id": "4781e092-2e23-4a6a-beee-e7baa01de547",
   "metadata": {},
   "source": [
    "Instala Selenium con el siguiente código *conda install -c conda-forge selenium*"
   ]
  },
  {
   "cell_type": "markdown",
   "id": "f26fcb1c-cbdf-404a-b6e8-526b2a81479b",
   "metadata": {},
   "source": [
    "Instala BeautifulSoup con el código *conda install -c anaconda beautifulsoup4*"
   ]
  },
  {
   "cell_type": "markdown",
   "id": "27c2173e-974b-4b77-9c04-349b73f773d4",
   "metadata": {},
   "source": [
    "Ahora Carga Webdriver de Selenium"
   ]
  },
  {
   "cell_type": "code",
   "execution_count": 16,
   "id": "fdefd855-2542-4103-b377-497df841d60a",
   "metadata": {},
   "outputs": [],
   "source": [
    "from selenium import webdriver\n",
    "driver = webdriver.Chrome()"
   ]
  },
  {
   "cell_type": "markdown",
   "id": "16d21115-5e77-4893-8225-5de083d94f96",
   "metadata": {},
   "source": [
    "Carga BeautifulSoup de Beautiful Soup"
   ]
  },
  {
   "cell_type": "code",
   "execution_count": 17,
   "id": "1e1cec69-a6f3-4100-aa13-fceb78b62c8f",
   "metadata": {},
   "outputs": [],
   "source": [
    "from bs4 import BeautifulSoup"
   ]
  },
  {
   "cell_type": "markdown",
   "id": "b8a2dd5d-d22f-4566-bd14-659cdaee3197",
   "metadata": {},
   "source": [
    "Y Pandas como PD"
   ]
  },
  {
   "cell_type": "code",
   "execution_count": 18,
   "id": "03da2252-f3c4-42d9-ab86-561744346d97",
   "metadata": {},
   "outputs": [
    {
     "name": "stdout",
     "output_type": "stream",
     "text": [
      "No se encontró el elemento\n"
     ]
    }
   ],
   "source": [
    "from selenium.webdriver.common.by import By\n",
    "from selenium.webdriver.support.ui import WebDriverWait\n",
    "from selenium.webdriver.support import expected_conditions as EC\n",
    "\n",
    "driver.get(\"https://vplaces.com\")\n",
    "\n",
    "try:\n",
    "    elemento = WebDriverWait(driver, 10).until(\n",
    "        EC.presence_of_element_located((By.ID, \"mi_id_de_ejemplo\"))\n",
    "    )\n",
    "    print(elemento.text)\n",
    "except:\n",
    "    print(\"No se encontró el elemento\")"
   ]
  },
  {
   "cell_type": "markdown",
   "id": "fbe2df9a-e83b-4bec-a837-978eb847b023",
   "metadata": {},
   "source": [
    "## Configuración"
   ]
  },
  {
   "cell_type": "markdown",
   "id": "6aea0c37-f62b-4e5a-9437-2fcdecb94c53",
   "metadata": {},
   "source": [
    "Arma 3 listas, una para metros cuadrados, otra para precio y otra para ubicacion"
   ]
  },
  {
   "cell_type": "code",
   "execution_count": 19,
   "id": "1cf22a0d-ba5e-4acd-a71e-d500101b749e",
   "metadata": {},
   "outputs": [],
   "source": [
    "from selenium import webdriver\n",
    "from selenium.webdriver.chrome.service import Service\n",
    "from selenium.webdriver.common.by import By"
   ]
  },
  {
   "cell_type": "code",
   "execution_count": 20,
   "id": "5cddab97-e26e-4186-a774-89c79f3ba5e1",
   "metadata": {},
   "outputs": [],
   "source": [
    "options = webdriver.ChromeOptions()\n",
    "options.add_argument(\"--proxy-server=http://192.168.0.100:8080\")\n",
    "options.add_experimental_option(\"prefs\", {\n",
    "    \"profile.default_content_setting_values.geolocation\": 1\n",
    "})"
   ]
  },
  {
   "cell_type": "markdown",
   "id": "d554199f-de6c-4193-b0bd-2c3f7aa7a0e6",
   "metadata": {},
   "source": [
    "Y arma un driver.get para especificar la página de donde vamos a trabajar"
   ]
  },
  {
   "cell_type": "code",
   "execution_count": 21,
   "id": "2e9e13b8-35da-485d-b0be-b4916778829e",
   "metadata": {},
   "outputs": [],
   "source": [
    "driver.get(\"http://www.mineduc.cl/temas-educacion/formacion-continua/index.html\")"
   ]
  },
  {
   "cell_type": "markdown",
   "id": "e76be684-81c9-4620-bac4-a3c841878c06",
   "metadata": {},
   "source": [
    "## Extracción de Datos"
   ]
  },
  {
   "cell_type": "markdown",
   "id": "0e2af542-d356-4ebc-ba56-8329945267f5",
   "metadata": {},
   "source": [
    "Guarda el código HTML de la página en un objeto Contenido"
   ]
  },
  {
   "cell_type": "code",
   "execution_count": 12,
   "id": "100cc676-8746-4af9-ba49-9deaae8ac314",
   "metadata": {},
   "outputs": [],
   "source": [
    "contenido_html = driver.page_source"
   ]
  },
  {
   "cell_type": "code",
   "execution_count": 13,
   "id": "2ceafce6-32b7-4485-bd3b-c74afb7c6ef1",
   "metadata": {},
   "outputs": [],
   "source": [
    "from bs4 import BeautifulSoup\n",
    "\n",
    "soup = BeautifulSoup(contenido_html, \"html.parser\")"
   ]
  },
  {
   "cell_type": "markdown",
   "id": "96838dbf-ae0d-4954-af3a-7b7f6da03ad4",
   "metadata": {},
   "source": [
    "Conviertelo a BeautifulSoup"
   ]
  },
  {
   "cell_type": "code",
   "execution_count": 22,
   "id": "7336ebbb-74e1-480b-975e-32aced23d286",
   "metadata": {},
   "outputs": [],
   "source": [
    "contenido_html = driver.page_source"
   ]
  },
  {
   "cell_type": "code",
   "execution_count": 23,
   "id": "b503592c-2589-4017-8dd3-206c3c64c4b4",
   "metadata": {},
   "outputs": [],
   "source": [
    "from bs4 import BeautifulSoup\n",
    "\n",
    "soup = BeautifulSoup(contenido_html, \"html.parser\")"
   ]
  },
  {
   "cell_type": "markdown",
   "id": "9c4ca0f2-1aac-4407-b038-88dbcce7fad8",
   "metadata": {},
   "source": [
    "Arma un for en el que vayas agregando a nuestras listas los datos necesarios con a.find, usa . append para ir agregando los datos a las listas"
   ]
  },
  {
   "cell_type": "code",
   "execution_count": 24,
   "id": "c9f36965-a9f8-46d3-a0ec-c69966a079f8",
   "metadata": {},
   "outputs": [],
   "source": [
    "titulos = []\n",
    "enlaces = []       "
   ]
  },
  {
   "cell_type": "code",
   "execution_count": 25,
   "id": "d45d2e5a-ab58-4dbd-bab3-e9a2766aa7f9",
   "metadata": {},
   "outputs": [],
   "source": [
    "for elemento in soup.find_all(\"a\"):\n",
    "    titulo = elemento.get_text(strip=True)\n",
    "    enlace = elemento.get(\"href\", \"\")\n",
    "    titulos.append(titulo)\n",
    "    enlaces.append(enlace)"
   ]
  },
  {
   "cell_type": "code",
   "execution_count": 26,
   "id": "f1333e75-480c-4511-aa70-9a94b601c59d",
   "metadata": {},
   "outputs": [
    {
     "name": "stdout",
     "output_type": "stream",
     "text": [
      "Primeros 5 títulos: ['MENU', 'Inicio', 'Ministerio►', 'Ministerio', 'Ministro de Educación']\n",
      "Primeros 5 enlaces: ['#', 'https://www.mineduc.cl', '#', 'https://www.mineduc.cl/ministerio/', 'https://www.mineduc.cl/ministerio/ministro-de-educacion/']\n"
     ]
    }
   ],
   "source": [
    "print(\"Primeros 5 títulos:\", titulos[:5])\n",
    "print(\"Primeros 5 enlaces:\", enlaces[:5])"
   ]
  },
  {
   "cell_type": "code",
   "execution_count": 27,
   "id": "e76f7233-c962-488c-bfcd-fcced531d220",
   "metadata": {},
   "outputs": [
    {
     "data": {
      "text/html": [
       "<div>\n",
       "<style scoped>\n",
       "    .dataframe tbody tr th:only-of-type {\n",
       "        vertical-align: middle;\n",
       "    }\n",
       "\n",
       "    .dataframe tbody tr th {\n",
       "        vertical-align: top;\n",
       "    }\n",
       "\n",
       "    .dataframe thead th {\n",
       "        text-align: right;\n",
       "    }\n",
       "</style>\n",
       "<table border=\"1\" class=\"dataframe\">\n",
       "  <thead>\n",
       "    <tr style=\"text-align: right;\">\n",
       "      <th></th>\n",
       "      <th>Titulo</th>\n",
       "      <th>Enlace</th>\n",
       "    </tr>\n",
       "  </thead>\n",
       "  <tbody>\n",
       "    <tr>\n",
       "      <th>0</th>\n",
       "      <td>MENU</td>\n",
       "      <td>#</td>\n",
       "    </tr>\n",
       "    <tr>\n",
       "      <th>1</th>\n",
       "      <td>Inicio</td>\n",
       "      <td>https://www.mineduc.cl</td>\n",
       "    </tr>\n",
       "    <tr>\n",
       "      <th>2</th>\n",
       "      <td>Ministerio►</td>\n",
       "      <td>#</td>\n",
       "    </tr>\n",
       "    <tr>\n",
       "      <th>3</th>\n",
       "      <td>Ministerio</td>\n",
       "      <td>https://www.mineduc.cl/ministerio/</td>\n",
       "    </tr>\n",
       "    <tr>\n",
       "      <th>4</th>\n",
       "      <td>Ministro de Educación</td>\n",
       "      <td>https://www.mineduc.cl/ministerio/ministro-de-...</td>\n",
       "    </tr>\n",
       "  </tbody>\n",
       "</table>\n",
       "</div>"
      ],
      "text/plain": [
       "                  Titulo                                             Enlace\n",
       "0                   MENU                                                  #\n",
       "1                 Inicio                             https://www.mineduc.cl\n",
       "2            Ministerio►                                                  #\n",
       "3             Ministerio                 https://www.mineduc.cl/ministerio/\n",
       "4  Ministro de Educación  https://www.mineduc.cl/ministerio/ministro-de-..."
      ]
     },
     "execution_count": 27,
     "metadata": {},
     "output_type": "execute_result"
    }
   ],
   "source": [
    "import pandas as pd\n",
    "\n",
    "df = pd.DataFrame({\n",
    "    \"Titulo\": titulos,\n",
    "    \"Enlace\": enlaces\n",
    "})\n",
    "df.head()"
   ]
  },
  {
   "cell_type": "code",
   "execution_count": 28,
   "id": "afbd0914-7031-4bff-a041-c74272d20cdb",
   "metadata": {},
   "outputs": [
    {
     "name": "stdout",
     "output_type": "stream",
     "text": [
      "Datos guardados en 'scraping_resultados.csv'\n"
     ]
    }
   ],
   "source": [
    "df.to_csv(\"scraping_resultados.csv\", index=False)\n",
    "print(\"Datos guardados en 'scraping_resultados.csv'\")"
   ]
  },
  {
   "cell_type": "markdown",
   "id": "89b0739a-0f57-4a16-8e1b-e47f686ef53e",
   "metadata": {},
   "source": [
    "Arma un for para limpiar precio"
   ]
  },
  {
   "cell_type": "code",
   "execution_count": 29,
   "id": "bd68a15a-9db7-4712-b303-a421f8709678",
   "metadata": {},
   "outputs": [
    {
     "name": "stdout",
     "output_type": "stream",
     "text": [
      "Precios encontrados: []\n"
     ]
    }
   ],
   "source": [
    "lista_precios = []\n",
    "\n",
    "for elemento in soup.find_all(\"span\", class_=\"precio\"):\n",
    "    precio_texto = elemento.get_text(strip=True)\n",
    "    precio_valor = float(precio_texto.replace(\"$\", \"\").replace(\",\", \"\"))\n",
    "    lista_precios.append(precio_valor)\n",
    "\n",
    "print(\"Precios encontrados:\", lista_precios)"
   ]
  },
  {
   "cell_type": "code",
   "execution_count": 30,
   "id": "d8431595-c04e-4399-ab4d-e00263095400",
   "metadata": {},
   "outputs": [
    {
     "name": "stdout",
     "output_type": "stream",
     "text": [
      "Precios filtrados (< $50): []\n"
     ]
    }
   ],
   "source": [
    "precios_filtrados = []\n",
    "\n",
    "for precio in lista_precios:\n",
    "    if precio < 50:  # Ajusta el valor según el criterio de filtrado\n",
    "        precios_filtrados.append(precio)\n",
    "\n",
    "print(\"Precios filtrados (< $50):\", precios_filtrados)"
   ]
  },
  {
   "cell_type": "markdown",
   "id": "fbcc4ee5-cf4c-466e-ae5f-ff319d4ee061",
   "metadata": {},
   "source": [
    "Arma un for para limpiar ubicación"
   ]
  },
  {
   "cell_type": "code",
   "execution_count": 31,
   "id": "cfd1c8ec-655e-493a-8a02-da3a3ce12d8b",
   "metadata": {},
   "outputs": [
    {
     "name": "stdout",
     "output_type": "stream",
     "text": [
      "Ubicaciones encontradas: []\n"
     ]
    }
   ],
   "source": [
    "lista_ubicaciones = []\n",
    "\n",
    "for elemento in soup.find_all(\"span\", class_=\"ubicacion\"):\n",
    "    ubicacion_texto = elemento.get_text(strip=True)\n",
    "    lista_ubicaciones.append(ubicacion_texto)\n",
    "\n",
    "print(\"Ubicaciones encontradas:\", lista_ubicaciones)"
   ]
  },
  {
   "cell_type": "code",
   "execution_count": 32,
   "id": "cb6f049a-4e02-4066-90f3-07952b0b3441",
   "metadata": {},
   "outputs": [
    {
     "name": "stdout",
     "output_type": "stream",
     "text": [
      "Ubicaciones filtradas (contienen 'Santiago'): []\n"
     ]
    }
   ],
   "source": [
    "ubicaciones_filtradas = []\n",
    "\n",
    "for ubicacion in lista_ubicaciones:\n",
    "    if \"Santiago\" in ubicacion:\n",
    "        ubicaciones_filtradas.append(ubicacion)\n",
    "\n",
    "print(\"Ubicaciones filtradas (contienen 'Santiago'):\", ubicaciones_filtradas)"
   ]
  },
  {
   "cell_type": "markdown",
   "id": "4bef1b0b-2f8b-448c-8301-9d318500d69e",
   "metadata": {},
   "source": [
    "Arma un for para limpiar m2"
   ]
  },
  {
   "cell_type": "code",
   "execution_count": 33,
   "id": "702b5bb0-7e61-43de-91cd-165bb14fa285",
   "metadata": {},
   "outputs": [
    {
     "name": "stdout",
     "output_type": "stream",
     "text": [
      "n2 original: ['   12.5 ', '  $15,00 ', '20,30 ', ' $  7.90']\n",
      "n2 limpio: [12.5, 1500.0, 2030.0, 7.9]\n"
     ]
    }
   ],
   "source": [
    "n2 = [\"   12.5 \", \"  $15,00 \", \"20,30 \", \" $  7.90\"]\n",
    "\n",
    "n2_limpio = []\n",
    "\n",
    "for elemento in n2:\n",
    "    temp = elemento.strip()\n",
    "    temp = temp.replace(\"$\", \"\").replace(\",\", \"\")\n",
    "    valor = float(temp)\n",
    "    n2_limpio.append(valor)\n",
    "\n",
    "print(\"n2 original:\", n2)\n",
    "print(\"n2 limpio:\", n2_limpio)"
   ]
  },
  {
   "cell_type": "code",
   "execution_count": 34,
   "id": "4f25c639-fa24-470f-9957-8de8a3bd7153",
   "metadata": {},
   "outputs": [
    {
     "name": "stdout",
     "output_type": "stream",
     "text": [
      "Valores mayores a 10: [12.5, 1500.0, 2030.0]\n"
     ]
    }
   ],
   "source": [
    "n2_filtrado = []\n",
    "\n",
    "for valor in n2_limpio:\n",
    "    if valor > 10:\n",
    "        n2_filtrado.append(valor)\n",
    "\n",
    "print(\"Valores mayores a 10:\", n2_filtrado)"
   ]
  },
  {
   "cell_type": "markdown",
   "id": "3c448576-866a-4159-91b0-c73244f54128",
   "metadata": {},
   "source": [
    "## Almacenamiento"
   ]
  },
  {
   "cell_type": "markdown",
   "id": "b0c0ea92-8e81-418c-bb79-6ef5643f558a",
   "metadata": {},
   "source": [
    "Guarda tus datos en un dataframe"
   ]
  },
  {
   "cell_type": "code",
   "execution_count": 35,
   "id": "af5a6677-24ad-47e6-808b-f8ca9c878d76",
   "metadata": {},
   "outputs": [
    {
     "data": {
      "text/html": [
       "<div>\n",
       "<style scoped>\n",
       "    .dataframe tbody tr th:only-of-type {\n",
       "        vertical-align: middle;\n",
       "    }\n",
       "\n",
       "    .dataframe tbody tr th {\n",
       "        vertical-align: top;\n",
       "    }\n",
       "\n",
       "    .dataframe thead th {\n",
       "        text-align: right;\n",
       "    }\n",
       "</style>\n",
       "<table border=\"1\" class=\"dataframe\">\n",
       "  <thead>\n",
       "    <tr style=\"text-align: right;\">\n",
       "      <th></th>\n",
       "      <th>Ubicaciones</th>\n",
       "      <th>Precios</th>\n",
       "    </tr>\n",
       "  </thead>\n",
       "  <tbody>\n",
       "  </tbody>\n",
       "</table>\n",
       "</div>"
      ],
      "text/plain": [
       "Empty DataFrame\n",
       "Columns: [Ubicaciones, Precios]\n",
       "Index: []"
      ]
     },
     "execution_count": 35,
     "metadata": {},
     "output_type": "execute_result"
    }
   ],
   "source": [
    "import pandas as pd\n",
    "\n",
    "df_datos = pd.DataFrame({\n",
    "    \"Ubicaciones\": lista_ubicaciones,\n",
    "    \"Precios\": lista_precios\n",
    "})\n",
    "df_datos.head()"
   ]
  },
  {
   "cell_type": "code",
   "execution_count": 36,
   "id": "dc17fdda-3e34-4254-9c8a-e14988d97341",
   "metadata": {},
   "outputs": [
    {
     "name": "stdout",
     "output_type": "stream",
     "text": [
      "Datos guardados en 'datos_scraping.csv'\n"
     ]
    }
   ],
   "source": [
    "df_datos.to_csv(\"datos_scraping.csv\", index=False)\n",
    "print(\"Datos guardados en 'datos_scraping.csv'\")"
   ]
  },
  {
   "cell_type": "markdown",
   "id": "5fc17341-c493-4a5f-9076-6863992a28ce",
   "metadata": {},
   "source": [
    "Exporta tu Dataframe a un archivo CSV y abrelo en Excel"
   ]
  },
  {
   "cell_type": "code",
   "execution_count": 37,
   "id": "86dba992-5383-4ba2-b80b-24ce81c5d4d1",
   "metadata": {},
   "outputs": [],
   "source": [
    "\n",
    "df_datos.to_csv(\"datos_scraping.csv\", index=False)"
   ]
  }
 ],
 "metadata": {
  "kernelspec": {
   "display_name": "Python 3",
   "language": "python",
   "name": "python3"
  },
  "language_info": {
   "codemirror_mode": {
    "name": "ipython",
    "version": 3
   },
   "file_extension": ".py",
   "mimetype": "text/x-python",
   "name": "python",
   "nbconvert_exporter": "python",
   "pygments_lexer": "ipython3",
   "version": "3.13.1"
  }
 },
 "nbformat": 4,
 "nbformat_minor": 5
}
