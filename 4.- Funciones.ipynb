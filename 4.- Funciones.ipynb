{
 "cells": [
  {
   "cell_type": "markdown",
   "id": "69901415-871c-4128-94ba-7cb605818be1",
   "metadata": {},
   "source": [
    "# 4.- Funciones"
   ]
  },
  {
   "cell_type": "markdown",
   "id": "82a4386e-b878-475e-b82d-03dbcb9d44d3",
   "metadata": {},
   "source": [
    "## 4.2.- Función def"
   ]
  },
  {
   "cell_type": "markdown",
   "id": "8e864b12-a5a9-4cde-b565-a59929d9d7eb",
   "metadata": {},
   "source": [
    "Vamos a comenzar creando una funcion que tome un número y devuelva su raiz cuadrada"
   ]
  },
  {
   "cell_type": "code",
   "execution_count": 1,
   "id": "c555a87f-f94f-4dfb-ac88-4bd40e1f2c96",
   "metadata": {},
   "outputs": [],
   "source": [
    "def raiz_cuadrada(numero):\n",
    "    \"\"\"\n",
    "    Esta función toma un número y retorna su raíz cuadrada.\n",
    "    \"\"\"\n",
    "    return numero ** 0.5"
   ]
  },
  {
   "cell_type": "code",
   "execution_count": 2,
   "id": "315753b7-f2b8-46d8-a61c-499e912f468a",
   "metadata": {},
   "outputs": [
    {
     "name": "stdout",
     "output_type": "stream",
     "text": [
      "La raíz cuadrada de 9 es 3.0\n"
     ]
    }
   ],
   "source": [
    "resultado_9 = raiz_cuadrada(9)\n",
    "print(f\"La raíz cuadrada de 9 es {resultado_9}\")"
   ]
  },
  {
   "cell_type": "markdown",
   "id": "a034c45f-dd3c-4e3b-b4b5-4c266b7eb003",
   "metadata": {},
   "source": [
    "Las funciones también las podemos llamar desde otras expresiones como print"
   ]
  },
  {
   "cell_type": "code",
   "execution_count": 3,
   "id": "24499624-16fa-4b44-b50d-a0a77dd65543",
   "metadata": {},
   "outputs": [
    {
     "name": "stdout",
     "output_type": "stream",
     "text": [
      "La raíz cuadrada de 25 es: 5.0\n"
     ]
    }
   ],
   "source": [
    "def raiz_cuadrada(num):\n",
    "    \"\"\"\n",
    "    Retorna la raíz cuadrada de 'num'.\n",
    "    \"\"\"\n",
    "    return num ** 0.5\n",
    "\n",
    "print(\"La raíz cuadrada de 25 es:\", raiz_cuadrada(25))"
   ]
  },
  {
   "cell_type": "markdown",
   "id": "5fa7a304-a3ac-49f8-a9c7-985ff3cd4738",
   "metadata": {},
   "source": [
    "Muchas funciones podemos ? para saber como se usa la función"
   ]
  },
  {
   "cell_type": "code",
   "execution_count": 4,
   "id": "48187ac5-0ca4-4412-9b2c-8dc240a0a891",
   "metadata": {},
   "outputs": [
    {
     "name": "stdout",
     "output_type": "stream",
     "text": [
      "Raíz cuadrada de 9: 3.0\n",
      "Raíz cuadrada de 16: 4.0\n",
      "Raíz cuadrada de 81: 9.0\n"
     ]
    }
   ],
   "source": [
    "print(\"Raíz cuadrada de 9:\", raiz_cuadrada(9))\n",
    "print(\"Raíz cuadrada de 16:\", raiz_cuadrada(16))\n",
    "print(\"Raíz cuadrada de 81:\", raiz_cuadrada(81))"
   ]
  },
  {
   "cell_type": "markdown",
   "id": "55e03a1c-54ea-4685-b6e0-1880a7073360",
   "metadata": {},
   "source": [
    "#### Por tu cuenta\n",
    "\n",
    "Define una función que calcule la raiz cubica de un numero dado"
   ]
  },
  {
   "cell_type": "code",
   "execution_count": 5,
   "id": "3e9e8b00-c189-400d-b1ba-467fe444b379",
   "metadata": {},
   "outputs": [],
   "source": [
    "def raiz_cubica(num):\n",
    "    return num ** (1/3)"
   ]
  },
  {
   "cell_type": "code",
   "execution_count": 6,
   "id": "3b7ece1c-8e0a-4ea0-8166-64dd75e4661a",
   "metadata": {},
   "outputs": [
    {
     "name": "stdout",
     "output_type": "stream",
     "text": [
      "La raíz cúbica de 27 es 3.0\n"
     ]
    }
   ],
   "source": [
    "valor = 27\n",
    "resultado_cubico = raiz_cubica(valor)\n",
    "print(f\"La raíz cúbica de {valor} es {resultado_cubico}\")"
   ]
  },
  {
   "cell_type": "markdown",
   "id": "dc1856d4-be0c-4cc6-b217-10fb4bab5fe6",
   "metadata": {},
   "source": [
    "## 4.3.- Funciones con Múltiples Parámetros"
   ]
  },
  {
   "cell_type": "markdown",
   "id": "1f12cc0d-bd8e-45a9-b1b8-f976783ccf4f",
   "metadata": {},
   "source": [
    "Ahora armaremos una función usando IF que nos dice cual es la raiz cuadrada más grande de 3 números"
   ]
  },
  {
   "cell_type": "code",
   "execution_count": 7,
   "id": "8f4f0077-7108-42ce-942e-e12ee8744582",
   "metadata": {},
   "outputs": [],
   "source": [
    "def raiz_cuadrada_mas_grande(a, b, c):\n",
    "\n",
    "    rA = a ** 0.5\n",
    "    rB = b ** 0.5\n",
    "    rC = c ** 0.5\n",
    "    \n",
    "    # Comparación manual con if\n",
    "    if rA >= rB and rA >= rC:\n",
    "        return rA\n",
    "    elif rB >= rA and rB >= rC:\n",
    "        return rB\n",
    "    else:\n",
    "        return rC"
   ]
  },
  {
   "cell_type": "code",
   "execution_count": 8,
   "id": "8d9ccb53-92c1-4ff9-9202-543fa6c640d3",
   "metadata": {},
   "outputs": [
    {
     "name": "stdout",
     "output_type": "stream",
     "text": [
      "La raíz cuadrada más grande entre 9, 16 y 25 es 5.0\n"
     ]
    }
   ],
   "source": [
    "num1, num2, num3 = 9, 16, 25\n",
    "resultado = raiz_cuadrada_mas_grande(num1, num2, num3)\n",
    "print(f\"La raíz cuadrada más grande entre {num1}, {num2} y {num3} es {resultado}\")"
   ]
  },
  {
   "cell_type": "markdown",
   "id": "21bdb948-fa7a-4c21-9acb-6ae8266aa3e6",
   "metadata": {},
   "source": [
    "Por si las dudas, esto se podría haber simplificado usando Max y Min"
   ]
  },
  {
   "cell_type": "code",
   "execution_count": 9,
   "id": "8a495cc4-00c7-4cfb-9d0c-c35dea9683ae",
   "metadata": {},
   "outputs": [
    {
     "name": "stdout",
     "output_type": "stream",
     "text": [
      "(Versión simplificada) La raíz cuadrada más grande entre 9, 16 y 25 es 5.0\n"
     ]
    }
   ],
   "source": [
    "def raiz_cuadrada_mas_grande_simple(a, b, c):\n",
    "    return max(a**0.5, b**0.5, c**0.5)\n",
    "\n",
    "# Prueba de la función simplificada\n",
    "num1, num2, num3 = 9, 16, 25\n",
    "resultado_simple = raiz_cuadrada_mas_grande_simple(num1, num2, num3)\n",
    "print(f\"(Versión simplificada) La raíz cuadrada más grande entre {num1}, {num2} y {num3} es {resultado_simple}\")"
   ]
  },
  {
   "cell_type": "code",
   "execution_count": 10,
   "id": "1242a788-f538-4949-a483-8bbdb57ec9f8",
   "metadata": {},
   "outputs": [
    {
     "name": "stdout",
     "output_type": "stream",
     "text": [
      "La raíz cuadrada más grande entre 435.0, 34.0 y 5.0 es 20.85665361461421\n"
     ]
    }
   ],
   "source": [
    "a = float(input(\"Ingresa el primer número: \"))\n",
    "b = float(input(\"Ingresa el segundo número: \"))\n",
    "c = float(input(\"Ingresa el tercer número: \"))\n",
    "\n",
    "resultado_interactivo = raiz_cuadrada_mas_grande(a, b, c)\n",
    "\n",
    "print(f\"La raíz cuadrada más grande entre {a}, {b} y {c} es {resultado_interactivo}\")"
   ]
  },
  {
   "cell_type": "markdown",
   "id": "83d18c4c-e99c-4f4c-a0dc-41b41f50c6ed",
   "metadata": {},
   "source": [
    "#### Por tu cuenta\n",
    "\n",
    "Llama la función max con la lista 15,82,13,55 como argumento, yluego la min con la palabara amarillo como argumento"
   ]
  },
  {
   "cell_type": "code",
   "execution_count": 11,
   "id": "7143332b",
   "metadata": {},
   "outputs": [
    {
     "name": "stdout",
     "output_type": "stream",
     "text": [
      "El valor máximo en [15, 92, 135] es: 135\n",
      "El carácter mínimo en la palabra 'amarillo' es: 'a'\n"
     ]
    }
   ],
   "source": [
    "valores = [15, 92, 135]\n",
    "valor_maximo = max(valores)\n",
    "print(f\"El valor máximo en {valores} es: {valor_maximo}\")\n",
    "\n",
    "palabra = \"amarillo\"\n",
    "caracter_minimo = min(palabra)\n",
    "print(f\"El carácter mínimo en la palabra '{palabra}' es: '{caracter_minimo}'\")"
   ]
  },
  {
   "cell_type": "markdown",
   "id": "2d356f80-2d18-4849-a3dd-4253cb4edcd6",
   "metadata": {},
   "source": [
    "## 4.4.- Números aleatorios"
   ]
  },
  {
   "cell_type": "markdown",
   "id": "c7ad0802-525b-4399-8fc7-454593d86ae9",
   "metadata": {},
   "source": [
    "Vamos a simular el lanzamiento de una moneda (cara o cruz), usemos la biblioteca random y simulemos 10 tiros"
   ]
  },
  {
   "cell_type": "code",
   "execution_count": 12,
   "id": "3a8bd37e-3b1a-499b-88c3-c3063b1c2f72",
   "metadata": {},
   "outputs": [
    {
     "name": "stdout",
     "output_type": "stream",
     "text": [
      "Simulación de 10 lanzamientos (cara o cruz):\n",
      "Cruz Cruz Cara Cara Cara Cara Cruz Cara Cara Cruz "
     ]
    }
   ],
   "source": [
    "import random\n",
    "\n",
    "print(\"Simulación de 10 lanzamientos (cara o cruz):\")\n",
    "for i in range(10):\n",
    "    resultado = random.choice([\"Cara\", \"Cruz\"])\n",
    "    print(resultado, end=' ')"
   ]
  },
  {
   "cell_type": "code",
   "execution_count": 13,
   "id": "efd3d47a-b8cb-4e82-ac33-b7802b1cdd40",
   "metadata": {},
   "outputs": [
    {
     "name": "stdout",
     "output_type": "stream",
     "text": [
      "\n",
      "\n",
      "Simulación de 10 lanzamientos (segunda ejecución):\n",
      "Cruz Cara Cruz Cruz Cara Cruz Cara Cara Cruz Cara "
     ]
    }
   ],
   "source": [
    "print(\"\\n\\nSimulación de 10 lanzamientos (segunda ejecución):\")\n",
    "for i in range(10):\n",
    "    resultado = random.choice([\"Cara\", \"Cruz\"])\n",
    "    print(resultado, end=' ')"
   ]
  },
  {
   "cell_type": "markdown",
   "id": "05cefe11-289a-44e2-a987-b443cce37ce3",
   "metadata": {},
   "source": [
    "Ejecutalo de nuevo, checa como ahora tenemos diferentes resultados"
   ]
  },
  {
   "cell_type": "markdown",
   "id": "4e02ace3-df9d-41aa-87bd-6fd2daa2d0a4",
   "metadata": {},
   "source": [
    "Ahora vamos a escribir un código que simule el lanzamiento de una moneda 100,000 veces. No vamos a mostrar 100,000 resultados, solo una pequeña tabla con todas las caras y todas la cruces"
   ]
  },
  {
   "cell_type": "code",
   "execution_count": 14,
   "id": "70ee75bc-9a07-4c56-af3b-38cc3efcd256",
   "metadata": {},
   "outputs": [
    {
     "name": "stdout",
     "output_type": "stream",
     "text": [
      "\n",
      "En 100000 lanzamientos:\n",
      "Caras: 49963\n",
      "Cruces: 50037\n"
     ]
    }
   ],
   "source": [
    "import random\n",
    "\n",
    "num_lanzamientos = 100000\n",
    "caras = 0\n",
    "\n",
    "for i in range(num_lanzamientos):\n",
    "    resultado = random.choice([\"Cara\", \"Cruz\"])\n",
    "    if resultado == \"Cara\":\n",
    "        caras += 1\n",
    "\n",
    "cruces = num_lanzamientos - caras\n",
    "\n",
    "print(f\"\\nEn {num_lanzamientos} lanzamientos:\")\n",
    "print(f\"Caras: {caras}\")\n",
    "print(f\"Cruces: {cruces}\")"
   ]
  },
  {
   "cell_type": "markdown",
   "id": "5ac8c289-07af-4305-a7b0-a47f551d142a",
   "metadata": {},
   "source": [
    "Si queremos obligar a que random sieeeempre nos de los mismos resultados, podemos usar seed. Arma una semilla de 25 y ejecuta el código 2 veces, checa como se repita (seed necesita repetirse 2 veces tmb)"
   ]
  },
  {
   "cell_type": "code",
   "execution_count": 15,
   "id": "06562bd7-2288-4e71-b817-55aeae5017b4",
   "metadata": {},
   "outputs": [
    {
     "name": "stdout",
     "output_type": "stream",
     "text": [
      "Primera ejecución con seed=25:\n",
      "49 99 2 28 40 \n",
      "\n",
      "Reiniciamos la semilla en 25, repetimos:\n",
      "49 99 2 28 40 "
     ]
    }
   ],
   "source": [
    "import random\n",
    "\n",
    "# Fijamos la semilla en 25\n",
    "random.seed(25)\n",
    "\n",
    "print(\"Primera ejecución con seed=25:\")\n",
    "for _ in range(5):\n",
    "    print(random.randint(1, 100), end=\" \")\n",
    "\n",
    "print(\"\\n\\nReiniciamos la semilla en 25, repetimos:\")\n",
    "random.seed(25)\n",
    "\n",
    "for _ in range(5):\n",
    "    print(random.randint(1, 100), end=\" \")"
   ]
  },
  {
   "cell_type": "markdown",
   "id": "ae4f4e14-ebd5-45f8-a8e4-9b31641a0af1",
   "metadata": {},
   "source": [
    "Es momento de jugar a \"El Gran 8\". \n",
    "\n",
    "Lo primero será lanzar un par de dados - arma una función que simule 2 dados y devuelva los valores que cayeron"
   ]
  },
  {
   "cell_type": "code",
   "execution_count": 16,
   "id": "07d2eda1-61af-4814-89da-822a1cb05e01",
   "metadata": {},
   "outputs": [
    {
     "name": "stdout",
     "output_type": "stream",
     "text": [
      "Dados lanzados: 6, 4\n"
     ]
    }
   ],
   "source": [
    "import random\n",
    "\n",
    "def lanzar_dos_dados():\n",
    "    dado1 = random.randint(1, 6)\n",
    "    dado2 = random.randint(1, 6)\n",
    "    return (dado1, dado2)\n",
    "\n",
    "# Prueba rápida de la función\n",
    "d1, d2 = lanzar_dos_dados()\n",
    "print(f\"Dados lanzados: {d1}, {d2}\")"
   ]
  },
  {
   "cell_type": "markdown",
   "id": "6c524cee-4fb0-496d-b33b-343a1b9d6d62",
   "metadata": {},
   "source": [
    "Ahora arma una función que muestre la suma de los resultados de los 2 dados"
   ]
  },
  {
   "cell_type": "code",
   "execution_count": 17,
   "id": "f64c316a-f793-41ed-a4c0-68d014fbe816",
   "metadata": {},
   "outputs": [
    {
     "name": "stdout",
     "output_type": "stream",
     "text": [
      "Salieron 1 y 3. La suma es 4\n"
     ]
    }
   ],
   "source": [
    "def jugar_el_gran_8():\n",
    "    d1, d2 = lanzar_dos_dados()\n",
    "    print(f\"Salieron {d1} y {d2}. La suma es {d1 + d2}\")\n",
    "\n",
    "\n",
    "jugar_el_gran_8()#Nombre de la funcion \"jugar a El Gran 8\""
   ]
  },
  {
   "cell_type": "markdown",
   "id": "c5eb4532-dce4-4397-b753-223bb5030a8f",
   "metadata": {},
   "source": [
    "Ahora necesitamos una variable que almacene el resutlado de lanzar los dados (funcion 1) y otra que sume los resultados de la función 1."
   ]
  },
  {
   "cell_type": "code",
   "execution_count": 18,
   "id": "9f51af4c-2def-494b-b7a2-9201414a4019",
   "metadata": {},
   "outputs": [
    {
     "name": "stdout",
     "output_type": "stream",
     "text": [
      "Primer tiro: Dados = 1 y 3, Suma = 4\n"
     ]
    }
   ],
   "source": [
    "import random\n",
    "\n",
    "def lanzar_dos_dados():\n",
    "    dado1 = random.randint(1, 6)\n",
    "    dado2 = random.randint(1, 6)\n",
    "    return (dado1, dado2)\n",
    "\n",
    "# Lanzar los dados y guardar resultados\n",
    "resultado_tiro = lanzar_dos_dados()\n",
    "dado1, dado2 = resultado_tiro\n",
    "suma_tiro = dado1 + dado2\n",
    "\n",
    "print(f\"Primer tiro: Dados = {dado1} y {dado2}, Suma = {suma_tiro}\")"
   ]
  },
  {
   "cell_type": "markdown",
   "id": "21576096-58ea-4bd7-9e1b-bbe197aa08f2",
   "metadata": {},
   "source": [
    "Ahora, vamos  a simular las consecuencias del primer tiro - si la suma es 8, ganaste, si es 7, perdiste, y si no, continuamos"
   ]
  },
  {
   "cell_type": "code",
   "execution_count": 19,
   "id": "b35649ce-62bb-48fe-904a-089dccb42867",
   "metadata": {},
   "outputs": [
    {
     "name": "stdout",
     "output_type": "stream",
     "text": [
      "No se definió en el primer tiro. Continuamos...\n"
     ]
    }
   ],
   "source": [
    "if suma_tiro == 8:\n",
    "    print(\"Ganaste en el primer tiro (8)!\")\n",
    "elif suma_tiro == 7:\n",
    "    print(\"Perdiste en el primer tiro (7)!\")\n",
    "else:\n",
    "    print(\"No se definió en el primer tiro. Continuamos...\")"
   ]
  },
  {
   "cell_type": "markdown",
   "id": "34507a56-d650-4156-b1f2-d485a9b3634e",
   "metadata": {},
   "source": [
    "Y ahora con un bucle vamos a seguir el juego, se relanzan los dados y si se hace un bucle while que mientras que no haya un resultado de 6,8, o 7, se sigue tirando, si no se define si se ganó o se perdió"
   ]
  },
  {
   "cell_type": "code",
   "execution_count": 20,
   "id": "0142cde5-6158-4c73-bbf4-e2d48efcd532",
   "metadata": {},
   "outputs": [
    {
     "name": "stdout",
     "output_type": "stream",
     "text": [
      "Dados = 5 y 4, Suma = 9\n",
      "No es 6, 7 ni 8. Seguimos lanzando...\n",
      "\n",
      "Dados = 1 y 5, Suma = 6\n",
      "Resultado indefinido (6). Se termina el juego sin definir.\n"
     ]
    }
   ],
   "source": [
    "if suma_tiro not in [7, 8]:\n",
    "    while True:\n",
    "        dado1, dado2 = lanzar_dos_dados()\n",
    "        suma_tiro = dado1 + dado2\n",
    "        print(f\"Dados = {dado1} y {dado2}, Suma = {suma_tiro}\")\n",
    "\n",
    "        if suma_tiro == 8:\n",
    "            print(\"¡Ganaste!\")\n",
    "            break\n",
    "        elif suma_tiro == 7:\n",
    "            print(\"¡Perdiste!\")\n",
    "            break\n",
    "        elif suma_tiro == 6:\n",
    "            print(\"Resultado indefinido (6). Se termina el juego sin definir.\")\n",
    "            break\n",
    "        else:\n",
    "            print(\"No es 6, 7 ni 8. Seguimos lanzando...\\n\")"
   ]
  },
  {
   "cell_type": "markdown",
   "id": "e330a41d-998a-4dd8-a8b9-51d255f0464d",
   "metadata": {},
   "source": [
    "Ahora unifica todo el código"
   ]
  },
  {
   "cell_type": "code",
   "execution_count": 21,
   "id": "e11a34be",
   "metadata": {},
   "outputs": [
    {
     "name": "stdout",
     "output_type": "stream",
     "text": [
      "Primer tiro: 1 y 5, suma = 6\n",
      "No se definió en el primer tiro. Continuamos...\n",
      "Dados = 6 y 6, suma = 12\n",
      "No es 6, 7 ni 8. Seguimos lanzando...\n",
      "\n",
      "Dados = 2 y 5, suma = 7\n",
      "¡Perdiste!\n"
     ]
    }
   ],
   "source": [
    "import random\n",
    "\n",
    "def lanzar_dos_dados():\n",
    "    \"\"\"\n",
    "    Lanza dos dados y retorna (dado1, dado2).\n",
    "    \"\"\"\n",
    "    dado1 = random.randint(1, 6)\n",
    "    dado2 = random.randint(1, 6)\n",
    "    return (dado1, dado2)\n",
    "\n",
    "# 1. Primer tiro\n",
    "dado1, dado2 = lanzar_dos_dados()\n",
    "suma_tiro = dado1 + dado2\n",
    "print(f\"Primer tiro: {dado1} y {dado2}, suma = {suma_tiro}\")\n",
    "\n",
    "# 2. Consecuencias del primer tiro\n",
    "if suma_tiro == 8:\n",
    "    print(\"Ganaste en el primer tiro (8)!\")\n",
    "elif suma_tiro == 7:\n",
    "    print(\"Perdiste en el primer tiro (7)!\")\n",
    "else:\n",
    "    print(\"No se definió en el primer tiro. Continuamos...\")\n",
    "\n",
    "    # 3. Bucle para seguir lanzando hasta obtener 6, 7 u 8\n",
    "    while True:\n",
    "        dado1, dado2 = lanzar_dos_dados()\n",
    "        suma_tiro = dado1 + dado2\n",
    "        print(f\"Dados = {dado1} y {dado2}, suma = {suma_tiro}\")\n",
    "\n",
    "        if suma_tiro == 8:\n",
    "            print(\"¡Ganaste!\")\n",
    "            break\n",
    "        elif suma_tiro == 7:\n",
    "            print(\"¡Perdiste!\")\n",
    "            break\n",
    "        elif suma_tiro == 6:\n",
    "            print(\"Resultado indefinido (6). Se termina el juego sin definir.\")\n",
    "            break\n",
    "        else:\n",
    "            print(\"No es 6, 7 ni 8. Seguimos lanzando...\\n\")"
   ]
  },
  {
   "cell_type": "markdown",
   "id": "6c9e079c-3683-4901-a856-0bc24d2ea3b5",
   "metadata": {},
   "source": [
    "#### Por tu cuenta\n",
    "\n",
    "Usa un bucle for, randrange y una expresión condicional para simular 20 tiros de moneda, mosrando A para águila y S para Sello"
   ]
  },
  {
   "cell_type": "code",
   "execution_count": 22,
   "id": "24ea22a4-3fea-416b-af85-6a026c4ca9e7",
   "metadata": {},
   "outputs": [
    {
     "name": "stdout",
     "output_type": "stream",
     "text": [
      "S A S S A A S S S A A S A A S A A A A A "
     ]
    }
   ],
   "source": [
    "import random\n",
    "\n",
    "for _ in range(20):\n",
    "    resultado = \"A\" if random.randrange(2) == 0 else \"S\"\n",
    "    print(resultado, end=\" \")"
   ]
  },
  {
   "cell_type": "markdown",
   "id": "902a0cb5-4b49-40f2-b285-afd87b760f18",
   "metadata": {},
   "source": [
    "## 4.5.- Funciones sin parámetros y múltiples parámetros"
   ]
  },
  {
   "cell_type": "markdown",
   "id": "71dd025d-bf4b-4c68-99b5-0cb72614740e",
   "metadata": {},
   "source": [
    "def raizcuadra(numero):\n",
    "    \"\"\"Esta función saca la raiz cuadra de un número\"\"\"\n",
    "    return numero ** (1/2)Se acuerdan de la primer funcion que hicimos? Que pasa si la corremos sin parametro?"
   ]
  },
  {
   "cell_type": "code",
   "execution_count": 25,
   "id": "e381d145-b1cb-46c5-99b9-9f83e90964bd",
   "metadata": {},
   "outputs": [
    {
     "name": "stdout",
     "output_type": "stream",
     "text": [
      "2.0\n",
      "3.0\n"
     ]
    }
   ],
   "source": [
    "def raiz_cuadrada(numero=4.0):\n",
    "    \"\"\"\n",
    "    Esta función saca la raíz cuadrada de un número.\n",
    "    Si no se proporciona un número, usa 4.0 por defecto.\n",
    "    \"\"\"\n",
    "    return numero ** 0.5\n",
    "\n",
    "# Llamada sin pasar argumento\n",
    "print(raiz_cuadrada())        # Usará 4.0, resultado: 2.0\n",
    "# Llamada con un argumento\n",
    "print(raiz_cuadrada(9))      # Resultado: 3.0\n"
   ]
  },
  {
   "cell_type": "code",
   "execution_count": 26,
   "id": "4b642fdf-9360-4196-9a89-c717e6bf1bda",
   "metadata": {},
   "outputs": [
    {
     "name": "stdout",
     "output_type": "stream",
     "text": [
      "Llamada sin parámetro: 2.0\n",
      "Llamada con parámetro 9: 3.0\n"
     ]
    }
   ],
   "source": [
    "def raiz_cuadrada(numero=4.0):\n",
    "    \"\"\"\n",
    "    Esta función saca la raíz cuadrada de un número.\n",
    "    Si no se proporciona un número, usará 4.0 por defecto.\n",
    "    \"\"\"\n",
    "    return numero ** 0.5\n",
    "\n",
    "# Llamada sin pasar argumento\n",
    "print(\"Llamada sin parámetro:\", raiz_cuadrada())\n",
    "\n",
    "# Llamada pasando un argumento\n",
    "print(\"Llamada con parámetro 9:\", raiz_cuadrada(9))"
   ]
  },
  {
   "cell_type": "markdown",
   "id": "010114c1-509a-4cc1-a388-ca28850d9932",
   "metadata": {},
   "source": [
    "Asigna un parametro estandar para evitar este error"
   ]
  },
  {
   "cell_type": "markdown",
   "id": "6c3d4102-a3b3-40de-a916-1df8e54b4a29",
   "metadata": {},
   "source": [
    "También, hay funciones que pueden aceptar una cantidad indefinida de parametros - arma una función llamada promedio_calif que te diga el promedio de una cantidad arbitraria de calificaciones"
   ]
  },
  {
   "cell_type": "code",
   "execution_count": 27,
   "id": "a3fc7b58-87e9-441e-9772-14f961c0f1b4",
   "metadata": {},
   "outputs": [
    {
     "name": "stdout",
     "output_type": "stream",
     "text": [
      "Promedio de (8, 9, 10): 9.0\n",
      "Promedio de (100, 80, 75, 90): 86.25\n",
      "Promedio sin argumentos: 0\n"
     ]
    }
   ],
   "source": [
    "def promedio(*calificaciones):\n",
    "    \"\"\"\n",
    "    Recibe una cantidad variable de calificaciones (números)\n",
    "    y devuelve el promedio.\n",
    "    \"\"\"\n",
    "    if len(calificaciones) == 0:\n",
    "        return 0  # Si no recibe nada, regresa 0 (o podrías manejarlo de otra forma)\n",
    "    return sum(calificaciones) / len(calificaciones)\n",
    "\n",
    "# Pruebas\n",
    "print(\"Promedio de (8, 9, 10):\", promedio(8, 9, 10))\n",
    "print(\"Promedio de (100, 80, 75, 90):\", promedio(100, 80, 75, 90))\n",
    "print(\"Promedio sin argumentos:\", promedio())"
   ]
  },
  {
   "cell_type": "markdown",
   "id": "e3f6b2e9-4ed4-4c34-81b1-e60ca1b59bff",
   "metadata": {},
   "source": [
    "#### Por tu cuenta\n",
    "\n",
    "Arma una función que reciba una cantidad arbitraria de argumentos y calcule el producto de multiplicarlos todos entre ellos"
   ]
  },
  {
   "cell_type": "code",
   "execution_count": 29,
   "id": "1e1d13b9-3cb1-43e5-9cf9-b6da52643a78",
   "metadata": {},
   "outputs": [
    {
     "name": "stdout",
     "output_type": "stream",
     "text": [
      "Producto de (2, 3, 4): 24\n",
      "Producto de (1, 5, 7, 2): 70\n",
      "Producto sin argumentos: 1\n"
     ]
    }
   ],
   "source": [
    "def producto(*numeros):\n",
    "    \"\"\"\n",
    "    Recibe una cantidad variable de argumentos y retorna \n",
    "    el producto de todos.\n",
    "    \"\"\"\n",
    "    if len(numeros) == 0:\n",
    "        # Si no se pasa ningún argumento, retornamos 1\n",
    "        return 1\n",
    "    \n",
    "    resultado = 1\n",
    "    for n in numeros:\n",
    "        resultado *= n\n",
    "    return resultado\n",
    "\n",
    "print(\"Producto de (2, 3, 4):\", producto(2, 3, 4))        # 24\n",
    "print(\"Producto de (1, 5, 7, 2):\", producto(1, 5, 7, 2))  # 70\n",
    "print(\"Producto sin argumentos:\", producto())            # 1"
   ]
  },
  {
   "cell_type": "markdown",
   "id": "6892461b-49af-466b-b947-2e649586b5d5",
   "metadata": {},
   "source": [
    "## 4.6.- Alcance Local y Global"
   ]
  },
  {
   "cell_type": "markdown",
   "id": "1c759b58-4b0f-4e11-9a61-af3ee94a26e6",
   "metadata": {},
   "source": [
    "Recordemos nuestra función de raiz cuadrada"
   ]
  },
  {
   "cell_type": "code",
   "execution_count": 30,
   "id": "47693ade-1834-4d6f-b5d2-1582b62d02af",
   "metadata": {},
   "outputs": [],
   "source": [
    "def raiz_cuadrada(num):\n",
    "    \"\"\"\n",
    "    Retorna la raíz cuadrada de num.\n",
    "    \"\"\"\n",
    "    return num ** 0.5"
   ]
  },
  {
   "cell_type": "code",
   "execution_count": 31,
   "id": "0fff8b16-95e3-4138-be6d-4e7296ba2535",
   "metadata": {},
   "outputs": [
    {
     "name": "stdout",
     "output_type": "stream",
     "text": [
      "Raíz cuadrada de 16: 4.0\n",
      "Raíz cuadrada de 25: 5.0\n"
     ]
    }
   ],
   "source": [
    "print(\"Raíz cuadrada de 16:\", raiz_cuadrada(16))\n",
    "print(\"Raíz cuadrada de 25:\", raiz_cuadrada(25))"
   ]
  },
  {
   "cell_type": "code",
   "execution_count": 32,
   "id": "390db399-8b11-49e4-9d96-09597a3ed6c4",
   "metadata": {},
   "outputs": [
    {
     "name": "stdout",
     "output_type": "stream",
     "text": [
      "Dentro de la función: Soy una variable local\n"
     ]
    }
   ],
   "source": [
    "def ejemplo_variable_local():\n",
    "    mensaje = \"Soy una variable local\"\n",
    "    print(\"Dentro de la función:\", mensaje)\n",
    "\n",
    "ejemplo_variable_local()"
   ]
  },
  {
   "cell_type": "code",
   "execution_count": 34,
   "id": "d8fc0616-47e6-49d1-a9d3-b3509686734c",
   "metadata": {},
   "outputs": [
    {
     "name": "stdout",
     "output_type": "stream",
     "text": [
      "Fuera de la función:\n"
     ]
    }
   ],
   "source": [
    "print(\"Fuera de la función:\")"
   ]
  },
  {
   "cell_type": "code",
   "execution_count": 35,
   "id": "3b536999-dbf9-4b0d-ba9e-ed349124837a",
   "metadata": {},
   "outputs": [
    {
     "name": "stdout",
     "output_type": "stream",
     "text": [
      "Valor inicial de 'titulo' (global): Bienvenido\n"
     ]
    }
   ],
   "source": [
    "titulo = \"Bienvenido\"  # Variable global\n",
    "print(\"Valor inicial de 'titulo' (global):\", titulo)"
   ]
  },
  {
   "cell_type": "code",
   "execution_count": 36,
   "id": "9583cbc4-7839-4a44-b549-582437f1e17f",
   "metadata": {},
   "outputs": [
    {
     "name": "stdout",
     "output_type": "stream",
     "text": [
      "Dentro de la función (sin global): Nuevo Título\n",
      "Después de la función (sin global): Bienvenido\n"
     ]
    }
   ],
   "source": [
    "def cambiar_titulo_sin_global():\n",
    "    titulo = \"Nuevo Título\"  # Variable local \n",
    "    print(\"Dentro de la función (sin global):\", titulo)\n",
    "\n",
    "cambiar_titulo_sin_global()\n",
    "print(\"Después de la función (sin global):\", titulo)"
   ]
  },
  {
   "cell_type": "code",
   "execution_count": 37,
   "id": "f4dcf9c9-8e0f-41c3-9fe9-ba08e16b6666",
   "metadata": {},
   "outputs": [
    {
     "name": "stdout",
     "output_type": "stream",
     "text": [
      "Dentro de la función (con global): Título Modificado\n",
      "Después de la función (con global): Título Modificado\n"
     ]
    }
   ],
   "source": [
    "def cambiar_titulo_con_global():\n",
    "    global titulo\n",
    "    titulo = \"Título Modificado\"\n",
    "    print(\"Dentro de la función (con global):\", titulo)\n",
    "\n",
    "cambiar_titulo_con_global()\n",
    "print(\"Después de la función (con global):\", titulo)"
   ]
  },
  {
   "cell_type": "code",
   "execution_count": 38,
   "id": "c51d8d48-1463-4ebb-9cc5-87390cffed33",
   "metadata": {},
   "outputs": [
    {
     "name": "stdout",
     "output_type": "stream",
     "text": [
      "Resultado devuelto por la función: Valor local devuelto\n"
     ]
    }
   ],
   "source": [
    "def retornar_variable_local():\n",
    "    valor_local = \"Valor local devuelto\"\n",
    "    return valor_local\n",
    "\n",
    "resultado = retornar_variable_local()\n",
    "print(\"Resultado devuelto por la función:\", resultado)"
   ]
  },
  {
   "cell_type": "code",
   "execution_count": 39,
   "id": "2398a2f5-66f1-40a8-9a14-8c01332cc77d",
   "metadata": {},
   "outputs": [
    {
     "name": "stdout",
     "output_type": "stream",
     "text": [
      "La función devolvió: Sombra de la variable global\n",
      "La variable global 'titulo' sigue siendo: Título Modificado\n"
     ]
    }
   ],
   "source": [
    "def funcion_con_shadowing():\n",
    "    titulo = \"Sombra de la variable global\"\n",
    "    return titulo\n",
    "\n",
    "sombra = funcion_con_shadowing()\n",
    "print(\"La función devolvió:\", sombra)\n",
    "print(\"La variable global 'titulo' sigue siendo:\", titulo)"
   ]
  },
  {
   "cell_type": "code",
   "execution_count": 40,
   "id": "c1821b5d-62f8-4b06-a3cc-51b3a6911f97",
   "metadata": {},
   "outputs": [
    {
     "name": "stdout",
     "output_type": "stream",
     "text": [
      "Fin de la demostración de Alcance Local y Global.\n"
     ]
    }
   ],
   "source": [
    "print(\"Fin de la demostración de Alcance Local y Global.\")"
   ]
  },
  {
   "cell_type": "markdown",
   "id": "92d9d3b6-d1ae-480d-9026-b605aa24245f",
   "metadata": {},
   "source": [
    "Define la variable aprox pi =3.141 y luego define una función que llame a esta variable de acceso global"
   ]
  },
  {
   "cell_type": "code",
   "execution_count": 41,
   "id": "6446a7d0",
   "metadata": {},
   "outputs": [
    {
     "name": "stdout",
     "output_type": "stream",
     "text": [
      "La variable approx_pi en el ámbito global es: 3.141\n"
     ]
    }
   ],
   "source": [
    "approx_pi = 3.141\n",
    "\n",
    "def usar_pi():\n",
    "    print(f\"La variable approx_pi en el ámbito global es: {approx_pi}\")\n",
    "\n",
    "usar_pi()"
   ]
  },
  {
   "cell_type": "markdown",
   "id": "90a3042c-1f46-4ef1-9f19-9cae0aeae31f",
   "metadata": {},
   "source": [
    "Intenta modificar aprox pi desde una función - verás que python no lo hace, solo modifica una copia"
   ]
  },
  {
   "cell_type": "code",
   "execution_count": 42,
   "id": "51a058cf",
   "metadata": {},
   "outputs": [
    {
     "name": "stdout",
     "output_type": "stream",
     "text": [
      "En la función, approx_pi (local) es: 3.0\n",
      "Fuera de la función, approx_pi (global) sigue siendo: 3.141\n"
     ]
    }
   ],
   "source": [
    "def modificar_pi():\n",
    "    approx_pi = 3.0  # Variable local con el mismo nombre\n",
    "    print(f\"En la función, approx_pi (local) es: {approx_pi}\")\n",
    "\n",
    "modificar_pi()\n",
    "print(f\"Fuera de la función, approx_pi (global) sigue siendo: {approx_pi}\")"
   ]
  },
  {
   "cell_type": "markdown",
   "id": "5e3fc9f1-f1c8-419e-a7ad-ad015daa9ada",
   "metadata": {},
   "source": [
    "## 4.7.- El módulo de matemáticas de Python"
   ]
  },
  {
   "cell_type": "markdown",
   "id": "66a15356-6461-4202-a7d0-56526d3c1536",
   "metadata": {},
   "source": [
    "Calcula el log10 de 1000"
   ]
  },
  {
   "cell_type": "code",
   "execution_count": 43,
   "id": "d04ec048-5865-4040-a3f2-3b3cbcb1d40a",
   "metadata": {},
   "outputs": [
    {
     "ename": "NameError",
     "evalue": "name 'log10' is not defined",
     "output_type": "error",
     "traceback": [
      "\u001b[31m---------------------------------------------------------------------------\u001b[39m",
      "\u001b[31mNameError\u001b[39m                                 Traceback (most recent call last)",
      "\u001b[36mCell\u001b[39m\u001b[36m \u001b[39m\u001b[32mIn[43]\u001b[39m\u001b[32m, line 1\u001b[39m\n\u001b[32m----> \u001b[39m\u001b[32m1\u001b[39m \u001b[38;5;28mprint\u001b[39m(\u001b[43mlog10\u001b[49m(\u001b[32m1000\u001b[39m))\n",
      "\u001b[31mNameError\u001b[39m: name 'log10' is not defined"
     ]
    }
   ],
   "source": [
    "print(log10(1000))"
   ]
  },
  {
   "cell_type": "markdown",
   "id": "2db1131d-227b-46fe-aa43-ea83fd7ff1bc",
   "metadata": {},
   "source": [
    "Importa la librería math"
   ]
  },
  {
   "cell_type": "code",
   "execution_count": 44,
   "id": "4252d1a8-4e52-43d1-a5a4-045def644677",
   "metadata": {},
   "outputs": [],
   "source": [
    "import math"
   ]
  },
  {
   "cell_type": "markdown",
   "id": "4cebaf0a-a127-4a90-971a-a306d39ebc10",
   "metadata": {},
   "source": [
    "ahora si, calcula el log10 de 1000"
   ]
  },
  {
   "cell_type": "code",
   "execution_count": 45,
   "id": "47bf2d24-fcb4-4907-92e7-af142e2afded",
   "metadata": {},
   "outputs": [
    {
     "name": "stdout",
     "output_type": "stream",
     "text": [
      "3.0\n"
     ]
    }
   ],
   "source": [
    "print(math.log10(1000))"
   ]
  },
  {
   "cell_type": "markdown",
   "id": "1494d2e2-c5f0-4426-bd28-3ccea38d7b09",
   "metadata": {},
   "source": [
    "## 4.8.- Medidas de tendencia central y Dispersión"
   ]
  },
  {
   "cell_type": "markdown",
   "id": "68b9172a-f029-4f3c-83d1-545ff8937e5a",
   "metadata": {},
   "source": [
    "Importa la librería d eestadistica, y crea una lista de calificaciones aleatorias entre 50 y 100"
   ]
  },
  {
   "cell_type": "code",
   "execution_count": 46,
   "id": "06d77b88-6f25-4ee2-81c9-deb91bde85d4",
   "metadata": {},
   "outputs": [],
   "source": [
    "import random\n",
    "import statistics"
   ]
  },
  {
   "cell_type": "code",
   "execution_count": 47,
   "id": "55722831-d3af-4942-9a4c-fe1a3aac33b9",
   "metadata": {},
   "outputs": [],
   "source": [
    "calificaciones = [random.randint(50, 100) for _ in range(20)]"
   ]
  },
  {
   "cell_type": "code",
   "execution_count": 48,
   "id": "f3a0f859-bc27-47e0-967c-714e6ed4d536",
   "metadata": {},
   "outputs": [
    {
     "name": "stdout",
     "output_type": "stream",
     "text": [
      "Calificaciones generadas: [87, 64, 99, 77, 85, 78, 77, 81, 89, 82, 91, 80, 78, 53, 81, 68, 60, 53, 76, 74]\n"
     ]
    }
   ],
   "source": [
    "print(\"Calificaciones generadas:\", calificaciones)"
   ]
  },
  {
   "cell_type": "code",
   "execution_count": 49,
   "id": "35c23b1d-ff38-47e4-aea6-cdafea8eef6c",
   "metadata": {},
   "outputs": [
    {
     "name": "stdout",
     "output_type": "stream",
     "text": [
      "Media (promedio): 76.65\n"
     ]
    }
   ],
   "source": [
    "media = statistics.mean(calificaciones)\n",
    "print(f\"Media (promedio): {media:.2f}\")"
   ]
  },
  {
   "cell_type": "code",
   "execution_count": 50,
   "id": "f2bfdcbb-f910-4533-8d78-c86b53f5931d",
   "metadata": {},
   "outputs": [
    {
     "name": "stdout",
     "output_type": "stream",
     "text": [
      "Mediana: 78.0\n"
     ]
    }
   ],
   "source": [
    "mediana = statistics.median(calificaciones)\n",
    "print(f\"Mediana: {mediana}\")"
   ]
  },
  {
   "cell_type": "code",
   "execution_count": 51,
   "id": "de849887-eed1-4d37-a7ad-16d5ff13afbf",
   "metadata": {},
   "outputs": [
    {
     "name": "stdout",
     "output_type": "stream",
     "text": [
      "Moda: 77\n"
     ]
    }
   ],
   "source": [
    "try:\n",
    "    moda = statistics.mode(calificaciones)\n",
    "    print(f\"Moda: {moda}\")\n",
    "except statistics.StatisticsError:\n",
    "    print(\"No hay una moda única en esta lista.\")"
   ]
  },
  {
   "cell_type": "code",
   "execution_count": 52,
   "id": "c3604a84-a02c-421c-b5a4-cba89b768407",
   "metadata": {},
   "outputs": [
    {
     "name": "stdout",
     "output_type": "stream",
     "text": [
      "Desviación estándar (poblacional): 11.74\n",
      "Varianza (poblacional): 137.73\n"
     ]
    }
   ],
   "source": [
    "desviacion_std = statistics.pstdev(calificaciones)  # o stdev() si quieres la muestra\n",
    "varianza = statistics.pvariance(calificaciones)     # o variance() si quieres la muestra\n",
    "\n",
    "print(f\"Desviación estándar (poblacional): {desviacion_std:.2f}\")\n",
    "print(f\"Varianza (poblacional): {varianza:.2f}\")"
   ]
  },
  {
   "cell_type": "code",
   "execution_count": 53,
   "id": "a52ece6f-6db5-475e-aace-e5b49317270a",
   "metadata": {},
   "outputs": [
    {
     "name": "stdout",
     "output_type": "stream",
     "text": [
      "=== Resumen Estadístico ===\n",
      "Calificaciones: [87, 64, 99, 77, 85, 78, 77, 81, 89, 82, 91, 80, 78, 53, 81, 68, 60, 53, 76, 74]\n",
      "Media: 76.65\n",
      "Mediana: 78.0\n",
      "Moda: 77\n",
      "Desviación estándar: 11.74\n",
      "Varianza: 137.73\n"
     ]
    }
   ],
   "source": [
    "print(\"=== Resumen Estadístico ===\")\n",
    "print(f\"Calificaciones: {calificaciones}\")\n",
    "print(f\"Media: {media:.2f}\")\n",
    "print(f\"Mediana: {mediana}\")\n",
    "try:\n",
    "    print(f\"Moda: {moda}\")\n",
    "except NameError:\n",
    "    print(\"Moda no disponible.\")\n",
    "print(f\"Desviación estándar: {desviacion_std:.2f}\")\n",
    "print(f\"Varianza: {varianza:.2f}\")"
   ]
  },
  {
   "cell_type": "markdown",
   "id": "77e5a078-1a94-4fc1-acb0-4ae291e3ea0c",
   "metadata": {},
   "source": [
    "Calcula las medidas de tendencia central"
   ]
  },
  {
   "cell_type": "code",
   "execution_count": 54,
   "id": "add77ae5",
   "metadata": {},
   "outputs": [
    {
     "name": "stdout",
     "output_type": "stream",
     "text": [
      "=== Medidas de tendencia central ===\n",
      "Datos: [1, 2, 3, 4, 5, 6, 7, 8, 9, 10, 11, 12, 13, 14, 15, 16, 17, 18, 19, 20]\n",
      "Media: 10.5\n",
      "Mediana: 10.5\n",
      "Moda: 1\n"
     ]
    }
   ],
   "source": [
    "import statistics\n",
    "\n",
    "# Datos de ejemplo: números del 1 al 20\n",
    "datos = list(range(1, 21))\n",
    "\n",
    "# Cálculo de medidas de tendencia central\n",
    "media = statistics.mean(datos)\n",
    "mediana = statistics.median(datos)\n",
    "\n",
    "# La lista 1..20 no tiene un valor repetido\n",
    "try:\n",
    "    moda = statistics.mode(datos)\n",
    "except statistics.StatisticsError:\n",
    "    moda = \"No hay una moda única\"\n",
    "\n",
    "print(\"=== Medidas de tendencia central ===\")\n",
    "print(f\"Datos: {datos}\")\n",
    "print(f\"Media: {media}\")\n",
    "print(f\"Mediana: {mediana}\")\n",
    "print(f\"Moda: {moda}\")"
   ]
  },
  {
   "cell_type": "markdown",
   "id": "d0b2cda1-016b-4f15-8663-586820f6aae0",
   "metadata": {},
   "source": [
    "Calcula las medidas de dispersión"
   ]
  },
  {
   "cell_type": "code",
   "execution_count": 55,
   "id": "24b6db9c",
   "metadata": {},
   "outputs": [
    {
     "name": "stdout",
     "output_type": "stream",
     "text": [
      "=== Medidas de dispersión ===\n",
      "Varianza poblacional: 33.25\n",
      "Desviación estándar poblacional: 5.77\n",
      "Varianza muestral: 35.00\n",
      "Desviación estándar muestral: 5.92\n"
     ]
    }
   ],
   "source": [
    "# Varianza y desviación estándar POBLACIONAL\n",
    "var_pob = statistics.pvariance(datos)\n",
    "desv_pob = statistics.pstdev(datos)\n",
    "\n",
    "# Varianza y desviación estándar MUESTRAL\n",
    "var_muestral = statistics.variance(datos)\n",
    "desv_muestral = statistics.stdev(datos)\n",
    "\n",
    "print(\"=== Medidas de dispersión ===\")\n",
    "print(f\"Varianza poblacional: {var_pob:.2f}\")\n",
    "print(f\"Desviación estándar poblacional: {desv_pob:.2f}\")\n",
    "print(f\"Varianza muestral: {var_muestral:.2f}\")\n",
    "print(f\"Desviación estándar muestral: {desv_muestral:.2f}\")"
   ]
  },
  {
   "cell_type": "markdown",
   "id": "e55f2a84-65b1-4e86-b4d4-9be69022fdc2",
   "metadata": {},
   "source": [
    "#### Por tu cuenta\n",
    "\n",
    "Para los numeros del 1 al 20, calcula la varianza y la desviacion estandar - compara con la varianza poblacional y la desviacion estandar poblacional"
   ]
  },
  {
   "cell_type": "code",
   "execution_count": 56,
   "id": "67a1ec36",
   "metadata": {},
   "outputs": [
    {
     "name": "stdout",
     "output_type": "stream",
     "text": [
      "=== Resumen completo de estadísticos para los números del 1 al 20 ===\n",
      "Datos: [1, 2, 3, 4, 5, 6, 7, 8, 9, 10, 11, 12, 13, 14, 15, 16, 17, 18, 19, 20]\n",
      "Media: 10.50\n",
      "Mediana: 10.5\n",
      "Moda: 1\n",
      "Varianza poblacional: 33.25\n",
      "Desviación estándar poblacional: 5.77\n",
      "Varianza muestral: 35.00\n",
      "Desviación estándar muestral: 5.92\n"
     ]
    }
   ],
   "source": [
    "print(\"=== Resumen completo de estadísticos para los números del 1 al 20 ===\")\n",
    "print(f\"Datos: {datos}\")\n",
    "print(f\"Media: {media:.2f}\")\n",
    "print(f\"Mediana: {mediana}\")\n",
    "print(f\"Moda: {moda}\")\n",
    "print(f\"Varianza poblacional: {var_pob:.2f}\")\n",
    "print(f\"Desviación estándar poblacional: {desv_pob:.2f}\")\n",
    "print(f\"Varianza muestral: {var_muestral:.2f}\")\n",
    "print(f\"Desviación estándar muestral: {desv_muestral:.2f}\")"
   ]
  }
 ],
 "metadata": {
  "kernelspec": {
   "display_name": "Python 3",
   "language": "python",
   "name": "python3"
  },
  "language_info": {
   "codemirror_mode": {
    "name": "ipython",
    "version": 3
   },
   "file_extension": ".py",
   "mimetype": "text/x-python",
   "name": "python",
   "nbconvert_exporter": "python",
   "pygments_lexer": "ipython3",
   "version": "3.13.2"
  }
 },
 "nbformat": 4,
 "nbformat_minor": 5
}
