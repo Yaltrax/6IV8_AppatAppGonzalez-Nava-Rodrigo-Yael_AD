{
 "cells": [
  {
   "cell_type": "markdown",
   "id": "89030283-116c-4976-8e73-b89f8381e6f3",
   "metadata": {},
   "source": [
    "# 3.- Control y desarrollo de Programas"
   ]
  },
  {
   "cell_type": "markdown",
   "id": "dbbe85a8-e01d-4b2f-a971-a40e971242ad",
   "metadata": {},
   "source": [
    "## 3.3 Algoritmos"
   ]
  },
  {
   "cell_type": "markdown",
   "id": "1e24fd7e-76ad-4e6f-80db-907c3ddae4d5",
   "metadata": {},
   "source": [
    "#### Por tu cuenta\n",
    "\n",
    "Escribe el programa de python que realice las instrucciones en el algoritmo 3.3 de tu manual."
   ]
  },
  {
   "cell_type": "code",
   "execution_count": 1,
   "id": "ea7857f1-87e9-4e21-9e39-83ab4bd47a0a",
   "metadata": {},
   "outputs": [
    {
     "name": "stdout",
     "output_type": "stream",
     "text": [
      "El número 34.0 es mayor que 23.0\n"
     ]
    }
   ],
   "source": [
    "num1 = float(input(\"Ingresa el primer número: \"))\n",
    "num2 = float(input(\"Ingresa el segundo número: \"))\n",
    "\n",
    "if num1 > num2:\n",
    "    print(f\"El número {num1} es mayor que {num2}\")\n",
    "elif num1 < num2:\n",
    "    print(f\"El número {num2} es mayor que {num1}\")\n",
    "else:\n",
    "    print(\"Ambos números son iguales\")"
   ]
  },
  {
   "cell_type": "markdown",
   "id": "301cb629-91e3-433c-800f-baad2534271e",
   "metadata": {},
   "source": [
    "## 3.7.- Sentencia if "
   ]
  },
  {
   "cell_type": "markdown",
   "id": "410f8e45-c2d2-460f-87f6-9ea211142915",
   "metadata": {},
   "source": [
    "El usuario proporciona su año de nacimiento\n",
    "La cantidad debe leerse como un entero\n",
    "Si la variable 2021 – año de nacimiento, es mayor o igual a 25,\n",
    "el programa debe mostrar: Posible cliente"
   ]
  },
  {
   "cell_type": "markdown",
   "id": "c12a57c1-25fd-422c-b991-689f2af4cc34",
   "metadata": {},
   "source": [
    "Entonces el código para alguien que dijo nació en 1993 será:"
   ]
  },
  {
   "cell_type": "code",
   "execution_count": 2,
   "id": "d20cc775-bacf-4494-baf2-43a2a9bf013a",
   "metadata": {},
   "outputs": [],
   "source": [
    "anio_nacimiento = int(input(\"Ingrese su año de nacimiento: \"))\n",
    "edad = 2021 - anio_nacimiento"
   ]
  },
  {
   "cell_type": "code",
   "execution_count": 3,
   "id": "8f859198-f967-4e4a-919d-60bd4baa0af8",
   "metadata": {},
   "outputs": [
    {
     "name": "stdout",
     "output_type": "stream",
     "text": [
      "Posible cliente\n"
     ]
    }
   ],
   "source": [
    "if edad >= 25:\n",
    "    print(\"Posible cliente\")"
   ]
  },
  {
   "cell_type": "markdown",
   "id": "9c93db3a-9773-40da-8d2f-f3b52be77c1d",
   "metadata": {},
   "source": [
    "Si no se añade indentación... error"
   ]
  },
  {
   "cell_type": "code",
   "execution_count": 4,
   "id": "72ed4d90-d281-4c11-aca1-f4f6765b6527",
   "metadata": {},
   "outputs": [
    {
     "ename": "IndentationError",
     "evalue": "expected an indented block after 'if' statement on line 1 (329269703.py, line 2)",
     "output_type": "error",
     "traceback": [
      "  \u001b[36mCell\u001b[39m\u001b[36m \u001b[39m\u001b[32mIn[4]\u001b[39m\u001b[32m, line 2\u001b[39m\n\u001b[31m    \u001b[39m\u001b[31mprint(\"Posible cliente\")\u001b[39m\n    ^\n\u001b[31mIndentationError\u001b[39m\u001b[31m:\u001b[39m expected an indented block after 'if' statement on line 1\n"
     ]
    }
   ],
   "source": [
    "if edad >= 25:\n",
    "print(\"Posible cliente\")  "
   ]
  },
  {
   "cell_type": "markdown",
   "id": "3ffd478d-5723-4baf-9845-10412bf3ff67",
   "metadata": {},
   "source": [
    "Hay que poner identación en todos lados"
   ]
  },
  {
   "cell_type": "code",
   "execution_count": 5,
   "id": "8c0bf0c4-4f38-423c-b6b9-ff116ac9d4eb",
   "metadata": {},
   "outputs": [
    {
     "name": "stdout",
     "output_type": "stream",
     "text": [
      "Posible cliente\n",
      "Cumple con la edad requerida\n"
     ]
    }
   ],
   "source": [
    "anio_nacimiento = int(input(\"Ingrese su año de nacimiento: \"))\n",
    "edad = 2021 - anio_nacimiento\n",
    "\n",
    "if edad >= 25:\n",
    "    print(\"Posible cliente\")\n",
    "    print(\"Cumple con la edad requerida\") "
   ]
  },
  {
   "cell_type": "markdown",
   "id": "a74cf5cc-5c5b-459e-bb49-9fb8683d514d",
   "metadata": {},
   "source": [
    "Todas las expresiones pueden ser interpretadas como falsas y verdaderas"
   ]
  },
  {
   "cell_type": "markdown",
   "id": "c8e79e45-5fc7-4a17-ad46-59d024196579",
   "metadata": {},
   "source": [
    "#### Por tu cuenta\n",
    "\n",
    "Cambia la fecha de nacimiento al 2002 del primer código"
   ]
  },
  {
   "cell_type": "code",
   "execution_count": 6,
   "id": "4ed94b3e",
   "metadata": {},
   "outputs": [
    {
     "name": "stdout",
     "output_type": "stream",
     "text": [
      "No cumple con la edad requerida\n"
     ]
    }
   ],
   "source": [
    " anio_nacimiento = 2002  \n",
    "edad = 2021 - anio_nacimiento\n",
    "\n",
    "if edad >= 25:\n",
    "    print(\"Posible cliente\")\n",
    "else:\n",
    "    print(\"No cumple con la edad requerida\")"
   ]
  },
  {
   "cell_type": "markdown",
   "id": "d4c29904-0f82-468e-9b25-3bcf5e671341",
   "metadata": {},
   "source": [
    "## 3.8.- Sentencia if..else, if..elif...else"
   ]
  },
  {
   "cell_type": "markdown",
   "id": "9cd25587-cc7a-4202-b3e5-5e99369a0f6c",
   "metadata": {},
   "source": [
    "El usuario proporciona su año de nacimiento\n",
    "\n",
    "La cantidad debe leerse como un entero\n",
    "\n",
    "Si la variable 2021 – año de nacimiento, es mayor o igual a 25,\n",
    "\n",
    "el programa debe mostrar: Posible cliente\n",
    "\n",
    "en otro caso,\n",
    "\n",
    "debe mostrar: No es candidato"
   ]
  },
  {
   "cell_type": "markdown",
   "id": "3c80901e-93b7-4c46-8042-a1d135f92142",
   "metadata": {},
   "source": [
    "OK, escribe el código de lo anterior, observa la identación, prueba para 1985"
   ]
  },
  {
   "cell_type": "code",
   "execution_count": 7,
   "id": "6fc8df95-ced6-476d-921f-a9c38acbcc1f",
   "metadata": {},
   "outputs": [],
   "source": [
    "anio_nacimiento = int(input(\"Ingrese su año de nacimiento: \"))\n",
    "edad = 2021 - anio_nacimiento"
   ]
  },
  {
   "cell_type": "code",
   "execution_count": 8,
   "id": "e7f0caec-9f05-4808-a009-d1a4348f24aa",
   "metadata": {},
   "outputs": [
    {
     "name": "stdout",
     "output_type": "stream",
     "text": [
      "Posible cliente\n"
     ]
    }
   ],
   "source": [
    "if edad >= 25:\n",
    "    print(\"Posible cliente\")\n",
    "else:\n",
    "    print(\"No es candidato\")"
   ]
  },
  {
   "cell_type": "markdown",
   "id": "eb5474b3-2c69-425d-b284-4b4973d3e4c4",
   "metadata": {},
   "source": [
    "Y ahora para 1999"
   ]
  },
  {
   "cell_type": "code",
   "execution_count": 9,
   "id": "a1c7c3e9-c733-414e-a384-0d594a6018aa",
   "metadata": {},
   "outputs": [],
   "source": [
    "anio_nacimiento = 1999 \n",
    "edad = 2021 - anio_nacimiento"
   ]
  },
  {
   "cell_type": "code",
   "execution_count": 10,
   "id": "0b66e4bb-1a5a-48e3-bb29-156982d7d48b",
   "metadata": {},
   "outputs": [
    {
     "name": "stdout",
     "output_type": "stream",
     "text": [
      "No es candidato\n"
     ]
    }
   ],
   "source": [
    "if edad >= 25:\n",
    "    print(\"Posible cliente\")\n",
    "else:\n",
    "    print(\"No es candidato\")"
   ]
  },
  {
   "cell_type": "markdown",
   "id": "b1cb650e-ff5d-4791-819e-3d4f31ae49f5",
   "metadata": {},
   "source": [
    "Ok, otra alternativa es asignar las acciones a una variable"
   ]
  },
  {
   "cell_type": "code",
   "execution_count": 11,
   "id": "91b05b4c-e6ea-487c-8e23-341d6a5c33d2",
   "metadata": {},
   "outputs": [],
   "source": [
    "anio_nacimiento = int(input(\"Ingrese su año de nacimiento: \"))\n",
    "edad = 2021 - anio_nacimiento"
   ]
  },
  {
   "cell_type": "code",
   "execution_count": 12,
   "id": "2859bcbc-92e4-4729-91f2-a295bdc701f8",
   "metadata": {},
   "outputs": [
    {
     "name": "stdout",
     "output_type": "stream",
     "text": [
      "No es candidato\n"
     ]
    }
   ],
   "source": [
    "mensaje = \"Posible cliente\" if edad >= 25 else \"No es candidato\"\n",
    "print(mensaje)"
   ]
  },
  {
   "cell_type": "markdown",
   "id": "06bd7ff2-8017-4580-8cf4-845751e7143f",
   "metadata": {},
   "source": [
    "Cada condición (if) puede realizar más de una acción - solo recuerda indentar"
   ]
  },
  {
   "cell_type": "code",
   "execution_count": 13,
   "id": "6a033eb5-34cd-4a18-8aca-170cce1ee3f3",
   "metadata": {},
   "outputs": [
    {
     "name": "stdout",
     "output_type": "stream",
     "text": [
      "Eres menor de edad\n",
      "No puedes votar ni obtener licencia aún\n"
     ]
    }
   ],
   "source": [
    "edad = int(input(\"Ingrese su edad: \"))\n",
    "\n",
    "if edad >= 18:\n",
    "    print(\"Eres mayor de edad\")\n",
    "    print(\"Puedes votar\")\n",
    "    print(\"Puedes obtener tu licencia de conducir\")\n",
    "else:\n",
    "    print(\"Eres menor de edad\")\n",
    "    print(\"No puedes votar ni obtener licencia aún\")"
   ]
  },
  {
   "cell_type": "markdown",
   "id": "1781ed40-5814-4600-a8b6-2d9e5a816e9a",
   "metadata": {},
   "source": [
    "Por que si dejamos sin identación, siempre se va a ejecutar (y es un mundo de errores)"
   ]
  },
  {
   "cell_type": "code",
   "execution_count": 14,
   "id": "7eff9135-4ba5-4585-a359-d99a9846fb2c",
   "metadata": {},
   "outputs": [
    {
     "ename": "IndentationError",
     "evalue": "expected an indented block after 'if' statement on line 3 (678660878.py, line 4)",
     "output_type": "error",
     "traceback": [
      "  \u001b[36mCell\u001b[39m\u001b[36m \u001b[39m\u001b[32mIn[14]\u001b[39m\u001b[32m, line 4\u001b[39m\n\u001b[31m    \u001b[39m\u001b[31mprint(\"Eres mayor de edad\")\u001b[39m\n    ^\n\u001b[31mIndentationError\u001b[39m\u001b[31m:\u001b[39m expected an indented block after 'if' statement on line 3\n"
     ]
    }
   ],
   "source": [
    "edad = int(input(\"Ingrese su edad: \"))\n",
    "\n",
    "if edad >= 18:\n",
    "print(\"Eres mayor de edad\")  \n",
    "print(\"Puedes votar\")        \n",
    "Este código dará error (IndentationError) porque las líneas dentro del if no están indentadas."
   ]
  },
  {
   "cell_type": "markdown",
   "id": "45f8933d-a55f-4236-833d-8058d16395e6",
   "metadata": {},
   "source": [
    "Si la edad de la persona es mayor o igual a 60\n",
    "Mostrar: Adulto Mayor\n",
    "Si la edad de la persona es mayor o igual a 27\n",
    "Mostrar: Adulto\n",
    "Si la edad de la persona es mayor o igual a 18\n",
    "Mostrar: Joven\n",
    "Si la edad de la persona es mayor o igual a 12\n",
    "Mostrar: Adolescente\n",
    "En otro caso,\n",
    "Mostrar: Infante"
   ]
  },
  {
   "cell_type": "markdown",
   "id": "861e7951-f7d3-467c-9f92-e534069381c6",
   "metadata": {},
   "source": [
    "#### Por tu Cuenta\n",
    "\n",
    "Arma un programa basado en el pseudocódigo anterior"
   ]
  },
  {
   "cell_type": "code",
   "execution_count": 15,
   "id": "c8fd22ba-77a5-4033-a35a-d00947458df5",
   "metadata": {},
   "outputs": [],
   "source": [
    "edad = int(input(\"Ingrese la edad de la persona: \"))"
   ]
  },
  {
   "cell_type": "code",
   "execution_count": 16,
   "id": "34170795-15d0-4f83-821a-b214b2d0126d",
   "metadata": {},
   "outputs": [
    {
     "name": "stdout",
     "output_type": "stream",
     "text": [
      "Adulto Mayor\n"
     ]
    }
   ],
   "source": [
    "if edad >= 60:\n",
    "    print(\"Adulto Mayor\")\n",
    "elif edad >= 27:\n",
    "    print(\"Adulto\")\n",
    "elif edad >= 18:\n",
    "    print(\"Joven\")\n",
    "elif edad >= 12:\n",
    "    print(\"Adolescente\")\n",
    "else:\n",
    "    print(\"Infante\")"
   ]
  },
  {
   "cell_type": "code",
   "execution_count": 17,
   "id": "c198ea3a-ee73-4d37-95dc-08125ea8ca9d",
   "metadata": {},
   "outputs": [
    {
     "name": "stdout",
     "output_type": "stream",
     "text": [
      "Clasificación completada correctamente.\n"
     ]
    }
   ],
   "source": [
    "print(\"Clasificación completada correctamente.\")"
   ]
  },
  {
   "cell_type": "markdown",
   "id": "6a350229-d037-49b8-8a10-831c579ac107",
   "metadata": {},
   "source": [
    "## 3.9.- Sentencia While"
   ]
  },
  {
   "cell_type": "markdown",
   "id": "c774587b-29d9-475f-9912-24ab63b9fc04",
   "metadata": {},
   "source": [
    "Iniciar con potencia=4\n",
    "Mientras que potencia sea menor o igual a 817\n",
    "Potencia=potencia*4"
   ]
  },
  {
   "cell_type": "code",
   "execution_count": 18,
   "id": "aa39f319-6140-457b-9dfe-d65e260ad670",
   "metadata": {},
   "outputs": [],
   "source": [
    "potencia = 4"
   ]
  },
  {
   "cell_type": "markdown",
   "id": "c91db9d8-93f3-4d3a-a657-9b2b47f3aa50",
   "metadata": {},
   "source": [
    "Arma un programa que ejecute el pseudocódigo anterior"
   ]
  },
  {
   "cell_type": "code",
   "execution_count": 19,
   "id": "fc738513-065b-4ede-be43-077f8cb20581",
   "metadata": {},
   "outputs": [
    {
     "name": "stdout",
     "output_type": "stream",
     "text": [
      "Potencia actual: 4\n",
      "Potencia actual: 16\n",
      "Potencia actual: 64\n",
      "Potencia actual: 256\n"
     ]
    }
   ],
   "source": [
    "while potencia <= 817:\n",
    "    print(f\"Potencia actual: {potencia}\")\n",
    "    potencia *= 4  # Multiplica potencia por 4 en cada iteración"
   ]
  },
  {
   "cell_type": "code",
   "execution_count": 20,
   "id": "609c2a31-d0c2-45bc-a645-4866d3718e8e",
   "metadata": {},
   "outputs": [
    {
     "name": "stdout",
     "output_type": "stream",
     "text": [
      "Finalizó el ciclo, potencia superó 817.\n"
     ]
    }
   ],
   "source": [
    "print(\"Finalizó el ciclo, potencia superó 817.\")"
   ]
  },
  {
   "cell_type": "code",
   "execution_count": 21,
   "id": "c2b6e02b-4a66-4a55-80bb-1fcd2b7b69d4",
   "metadata": {},
   "outputs": [
    {
     "name": "stdout",
     "output_type": "stream",
     "text": [
      "Valor final de potencia: 1024\n"
     ]
    }
   ],
   "source": [
    "print(f\"Valor final de potencia: {potencia}\")"
   ]
  },
  {
   "cell_type": "markdown",
   "id": "3cc4527c-0db2-489c-b3f4-6824da60fe0d",
   "metadata": {},
   "source": [
    "# 3.10.- Sentencia For"
   ]
  },
  {
   "cell_type": "markdown",
   "id": "faf76ecb-2024-4504-b999-397258a8b613",
   "metadata": {},
   "source": [
    "Analiza el siguiente ejemplo\n",
    "\n",
    "for caracter in ‘Palabra’:\n",
    "    print(caracter, end=’ ‘)\n",
    "\n"
   ]
  },
  {
   "cell_type": "code",
   "execution_count": 22,
   "id": "2be519f0-0b2f-41cd-889a-324243b1c74e",
   "metadata": {},
   "outputs": [
    {
     "name": "stdout",
     "output_type": "stream",
     "text": [
      "P a l a b r a "
     ]
    }
   ],
   "source": [
    "for caracter in 'Palabra':\n",
    "    print(caracter, end=' ')"
   ]
  },
  {
   "cell_type": "markdown",
   "id": "836a856c-ded9-42f9-b816-ca57889fdbc2",
   "metadata": {},
   "source": [
    "Arma un programa que te calcule el factorial de algún número dado"
   ]
  },
  {
   "cell_type": "code",
   "execution_count": 23,
   "id": "7269cb54-02c7-4b6f-b400-bc8b9d573d01",
   "metadata": {},
   "outputs": [
    {
     "name": "stdout",
     "output_type": "stream",
     "text": [
      "El factorial de 4 es 24\n"
     ]
    }
   ],
   "source": [
    "numero = int(input(\"Ingrese un número: \"))\n",
    "factorial = 1\n",
    "\n",
    "for i in range(1, numero + 1):\n",
    "    factorial *= i  \n",
    "\n",
    "print(f\"El factorial de {numero} es {factorial}\")"
   ]
  },
  {
   "cell_type": "markdown",
   "id": "48fe5311-9076-44f6-8ef0-59ba0c09c9ea",
   "metadata": {},
   "source": [
    "Conoce el operador *= que te permite guardar el resultado en si mismo"
   ]
  },
  {
   "cell_type": "code",
   "execution_count": 24,
   "id": "2e627ca5-8755-455c-be36-b4df3deae649",
   "metadata": {},
   "outputs": [
    {
     "name": "stdout",
     "output_type": "stream",
     "text": [
      "15\n"
     ]
    }
   ],
   "source": [
    "x = 5\n",
    "x *= 3  \n",
    "print(x)"
   ]
  },
  {
   "cell_type": "markdown",
   "id": "f8ee4c02-8084-4b20-beb0-ffddf7f9e8a4",
   "metadata": {},
   "source": [
    "Podemos usar range si la suceción de elementos en for es una suscesión ordenada"
   ]
  },
  {
   "cell_type": "code",
   "execution_count": 25,
   "id": "016bb41a-99fd-4aee-aad0-ee994eb082cc",
   "metadata": {},
   "outputs": [
    {
     "name": "stdout",
     "output_type": "stream",
     "text": [
      "1\n",
      "2\n",
      "3\n",
      "4\n",
      "5\n",
      "6\n",
      "7\n",
      "8\n",
      "9\n",
      "10\n"
     ]
    }
   ],
   "source": [
    "for numero in range(1, 11):  \n",
    "    print(numero)"
   ]
  },
  {
   "cell_type": "markdown",
   "id": "89526fc0-663e-405b-9b71-4ad0c5eb77d6",
   "metadata": {},
   "source": [
    "Si necesitas salir del ciclo usa Break.\n",
    "\n",
    "Haz un programa que para todos los números del 1-10, muestre el número en pantalla... peeeero al llegar al 8 haga break."
   ]
  },
  {
   "cell_type": "code",
   "execution_count": 26,
   "id": "7b739677-ee9b-4511-aae4-e295dcf24242",
   "metadata": {},
   "outputs": [
    {
     "name": "stdout",
     "output_type": "stream",
     "text": [
      "1\n",
      "2\n",
      "3\n",
      "4\n",
      "5\n",
      "6\n",
      "7\n"
     ]
    }
   ],
   "source": [
    "for numero in range(1, 11):\n",
    "    if numero == 8:\n",
    "        break  # Detiene el ciclo cuando llega a 8\n",
    "    print(numero)"
   ]
  },
  {
   "cell_type": "markdown",
   "id": "9ec03229-a673-4e57-be0a-44708327b956",
   "metadata": {},
   "source": [
    "#### Por tu cuenta\n",
    "\n",
    "Usa for para calcular el consumo promedio de los siguientes clientes\n",
    "\n",
    "[130,85,210,45,153,78.5,264.5,94]\n",
    "\n",
    "Esta lista te muestra el consumo de cada cliente"
   ]
  },
  {
   "cell_type": "code",
   "execution_count": 27,
   "id": "793cbe1c-3303-4284-a5f9-da91d55cbcc6",
   "metadata": {},
   "outputs": [
    {
     "name": "stdout",
     "output_type": "stream",
     "text": [
      "El consumo promedio es: 132.50\n"
     ]
    }
   ],
   "source": [
    "consumos = [130, 85, 210, 45, 153, 78.5, 264.5, 94]\n",
    "suma_consumo = 0\n",
    "\n",
    "for consumo in consumos:\n",
    "    suma_consumo += consumo \n",
    "\n",
    "promedio = suma_consumo / len(consumos)  \n",
    "print(f\"El consumo promedio es: {promedio:.2f}\")"
   ]
  },
  {
   "cell_type": "markdown",
   "id": "4dfbadfd-4552-40bb-be14-f0a06f6cc589",
   "metadata": {},
   "source": [
    "#### Por tu cuenta\n",
    "\n",
    "usa for para calcular el interes compuesto de una persona que invierte $10,000 en una cuenta que rinde el 8% de intereses. Supon que la persona reinvierte los intereses. Calcula la cantida ddel dinero al final de 10 años"
   ]
  },
  {
   "cell_type": "code",
   "execution_count": 29,
   "id": "6ae87f0a-c126-4686-a68a-718750cd6cb4",
   "metadata": {},
   "outputs": [
    {
     "name": "stdout",
     "output_type": "stream",
     "text": [
      "El capital después de 10 años es: $21589.25\n"
     ]
    }
   ],
   "source": [
    "capital = 10000  # Inversión inicial\n",
    "tasa_interes = 0.08  # 8% anual\n",
    "anios = 10\n",
    "\n",
    "for _ in range(anios):\n",
    "    capital *= 1 + tasa_interes  \n",
    "\n",
    "print(f\"El capital después de {anios} años es: ${capital:.2f}\")"
   ]
  },
  {
   "cell_type": "markdown",
   "id": "f70e0474-b78c-41e6-b4bf-b7d406afc18e",
   "metadata": {},
   "source": [
    "#### Por tu cuenta\n",
    "\n",
    "En una tienda de autoservicio hay un promotor en la sección de productos lácteos. La empresa\n",
    "para la que trabaja, le otorga un premio económico si rebasa $200 de ventas (venta meta) por\n",
    "cliente. La empresa cuenta con un registro en donde están marcadas las ventas de 8 clientes que\n",
    "adquirieron algunos de los productos de la marca. Por cada cliente que rebasó la cantidad meta se\n",
    "escribe 1, y si no la rebasa se escribe 2. Si número de clientes que rebasan la venta meta es más de\n",
    "la mitad, se le otorga el premio al promotor. Se requiere de un programa que señale si al promotor\n",
    "se le debe asignar el premio económico"
   ]
  },
  {
   "cell_type": "code",
   "execution_count": 30,
   "id": "709467af-aa12-4e2b-a6f9-9ddbf3dc5cf4",
   "metadata": {},
   "outputs": [
    {
     "name": "stdout",
     "output_type": "stream",
     "text": [
      "El promotor recibe el premio económico.\n"
     ]
    }
   ],
   "source": [
    "ventas_clientes = [1, 2, 1, 1, 2, 1, 2, 1]\n",
    "\n",
    "clientes_superaron_meta = ventas_clientes.count(1)\n",
    "\n",
    "if clientes_superaron_meta > len(ventas_clientes) / 2:\n",
    "    print(\"El promotor recibe el premio económico.\")\n",
    "else:\n",
    "    print(\"El promotor NO recibe el premio económico.\")\n"
   ]
  },
  {
   "cell_type": "markdown",
   "id": "f8d3b5e3-6330-4c14-b58a-0cca551d2859",
   "metadata": {},
   "source": [
    "## 3.11.- Operadores Booleanos"
   ]
  },
  {
   "cell_type": "markdown",
   "id": "6c08d764-a3d9-4a66-b302-3d2b6ea26c9a",
   "metadata": {},
   "source": [
    "Arma un programa que revise si un cliente registró su mail Y que su salario mensual sea mayor a 20,000 pesos para poder declararlo como posible cliente"
   ]
  },
  {
   "cell_type": "code",
   "execution_count": 31,
   "id": "5a56ad9a-8461-4b37-9822-ae169684fd99",
   "metadata": {},
   "outputs": [
    {
     "name": "stdout",
     "output_type": "stream",
     "text": [
      "Posible cliente.\n"
     ]
    }
   ],
   "source": [
    "registro_mail = True  \n",
    "salario_mensual = 25000  \n",
    "\n",
    "if registro_mail and salario_mensual > 20000:\n",
    "    print(\"Posible cliente.\")\n",
    "else:\n",
    "    print(\"No es cliente.\")"
   ]
  },
  {
   "cell_type": "markdown",
   "id": "ef7df93f-b65c-44a8-8003-0eab0051c033",
   "metadata": {},
   "source": [
    "Arma un programa que revise si un posible candidato laboral va tiene titulo o al menos 5 años de experiencia laboral para poder llamarlo a entrevista"
   ]
  },
  {
   "cell_type": "code",
   "execution_count": 32,
   "id": "53f119f7-01eb-46d9-b9c8-be1eb9ecdcb2",
   "metadata": {},
   "outputs": [
    {
     "name": "stdout",
     "output_type": "stream",
     "text": [
      "Puede ser llamado a entrevista.\n"
     ]
    }
   ],
   "source": [
    "tiene_titulo = True  \n",
    "experiencia_laboral = 4  \n",
    "\n",
    "if tiene_titulo or experiencia_laboral >= 5:\n",
    "    print(\"Puede ser llamado a entrevista.\")\n",
    "else:\n",
    "    print(\"No cumple con los requisitos para la entrevista.\")"
   ]
  }
 ],
 "metadata": {
  "kernelspec": {
   "display_name": "Python 3",
   "language": "python",
   "name": "python3"
  },
  "language_info": {
   "codemirror_mode": {
    "name": "ipython",
    "version": 3
   },
   "file_extension": ".py",
   "mimetype": "text/x-python",
   "name": "python",
   "nbconvert_exporter": "python",
   "pygments_lexer": "ipython3",
   "version": "3.13.2"
  }
 },
 "nbformat": 4,
 "nbformat_minor": 5
}
